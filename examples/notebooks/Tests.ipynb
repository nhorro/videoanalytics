{
 "cells": [
  {
   "cell_type": "markdown",
   "id": "36e11c1a",
   "metadata": {},
   "source": [
    "# Tests"
   ]
  },
  {
   "cell_type": "code",
   "execution_count": 26,
   "id": "11f6144f",
   "metadata": {},
   "outputs": [
    {
     "name": "stdout",
     "output_type": "stream",
     "text": [
      "The autoreload extension is already loaded. To reload it, use:\n",
      "  %reload_ext autoreload\n"
     ]
    }
   ],
   "source": [
    "%load_ext autoreload\n",
    "%autoreload 2\n",
    "\n",
    "import pandas as pd\n",
    "import numpy as np\n",
    "import matplotlib.pyplot as plt\n",
    "import cv2\n",
    "import os\n",
    "\n",
    "import sys\n",
    "sys.path.append(\"../../src\")\n",
    "from videoanalytics.pipeline import process_pipeline, Source, Sink"
   ]
  },
  {
   "cell_type": "code",
   "execution_count": 27,
   "id": "55cc6ab1",
   "metadata": {},
   "outputs": [],
   "source": [
    "DATA_PATH = \"../data\""
   ]
  },
  {
   "cell_type": "code",
   "execution_count": 28,
   "id": "5df4cdaa",
   "metadata": {},
   "outputs": [],
   "source": [
    "# Input\n",
    "INPUT_VIDEO = DATA_PATH+\"/test_video.mp4\"\n",
    "START_FRAME = 0\n",
    "MAX_FRAMES = 10\n",
    "\n",
    "# Output\n",
    "OUTPUT_VIDEO = DATA_PATH+ \"/output.mp4\""
   ]
  },
  {
   "cell_type": "code",
   "execution_count": 29,
   "id": "a36b5233",
   "metadata": {},
   "outputs": [],
   "source": [
    "# 1. Create the context\n",
    "context = {}"
   ]
  },
  {
   "cell_type": "code",
   "execution_count": 23,
   "id": "70b571c3",
   "metadata": {},
   "outputs": [],
   "source": []
  },
  {
   "cell_type": "code",
   "execution_count": 31,
   "id": "7e010613",
   "metadata": {},
   "outputs": [
    {
     "name": "stderr",
     "output_type": "stream",
     "text": [
      "\n",
      "\n",
      "\n",
      "\n",
      "\n",
      "  0%|          | 0/10 [00:00<?, ?it/s]\u001b[A\u001b[A\u001b[A\u001b[A\u001b[A"
     ]
    },
    {
     "name": "stdout",
     "output_type": "stream",
     "text": [
      "Start frame: 0\n",
      "Total frames frame: 10\n",
      "Skipped frames : 0\n",
      "Initializing pipeline\n",
      "Sequence: ['input', 'writer']\n",
      "Processing pipeline\n",
      "Shutting down pipeline\n",
      "Shutting down VideoWriter. Video saved to ../data/output.mp4\n"
     ]
    }
   ],
   "source": [
    "import networkx as nx\n",
    "from videoanalytics.pipeline.sources import VideoReader\n",
    "from videoanalytics.pipeline.sinks import VideoWriter\n",
    "\n",
    "# 2. Define the pipeline as a Directed Acyclic Graph using NetworkX library\n",
    "pipeline = nx.DiGraph()\n",
    "\n",
    "# 3. Add blocks\n",
    "pipeline.add_nodes_from([\n",
    "    ( \"input\", {\n",
    "      \"component\": VideoReader(context,\n",
    "                               video_path=INPUT_VIDEO,\n",
    "                               start_frame=START_FRAME,\n",
    "                               max_frames=MAX_FRAMES)\n",
    "    }),\n",
    "\n",
    "    ( \"writer\", {\n",
    "        \"component\": VideoWriter(context,filename=OUTPUT_VIDEO)\n",
    "    })\n",
    "])\n",
    "\n",
    "# 4. Define connections\n",
    "pipeline.add_edges_from([\n",
    "    (\"input\", \"writer\")\n",
    "])\n",
    "\n",
    "# 5. Remove isolated blocks, if any\n",
    "pipeline.remove_nodes_from(list(nx.isolates(pipeline)))\n",
    "\n",
    "# 6. Process the pipeline\n",
    "process_pipeline(pipeline,context)"
   ]
  }
 ],
 "metadata": {
  "kernelspec": {
   "display_name": "Python 3",
   "language": "python",
   "name": "python3"
  },
  "language_info": {
   "codemirror_mode": {
    "name": "ipython",
    "version": 3
   },
   "file_extension": ".py",
   "mimetype": "text/x-python",
   "name": "python",
   "nbconvert_exporter": "python",
   "pygments_lexer": "ipython3",
   "version": "3.7.0"
  }
 },
 "nbformat": 4,
 "nbformat_minor": 5
}
