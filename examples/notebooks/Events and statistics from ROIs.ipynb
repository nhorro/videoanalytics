{
 "cells": [
  {
   "cell_type": "markdown",
   "id": "729f0071",
   "metadata": {},
   "source": [
    "# Events and statistics from ROIs\n",
    "\n",
    "This example illustrates the usage of regions of interest (ROIs) to capture statistics and interesting events from footage, under the assumption that the camera has a fixed position and orientation.\n",
    "\n",
    "Contents:\n",
    "\n",
    "1. Loading and displaying ROIs.\n",
    "2. Counting objects inside ROIs.\n",
    "3. Triggering interesting events."
   ]
  },
  {
   "cell_type": "code",
   "execution_count": 1,
   "id": "1754bcde",
   "metadata": {},
   "outputs": [],
   "source": [
    "%load_ext autoreload\n",
    "%autoreload 2"
   ]
  },
  {
   "cell_type": "code",
   "execution_count": 2,
   "id": "0cce6f8e",
   "metadata": {},
   "outputs": [],
   "source": [
    "from videoanalytics.pipeline import Pipeline\n",
    "from videoanalytics.pipeline.sources import VideoReader\n",
    "from videoanalytics.pipeline.sinks import VideoWriter"
   ]
  },
  {
   "cell_type": "markdown",
   "id": "e8743c38",
   "metadata": {},
   "source": [
    "## Loading and displaying ROIs"
   ]
  },
  {
   "cell_type": "markdown",
   "id": "57283ab4",
   "metadata": {},
   "source": [
    "### Configuration\n",
    "\n",
    "#### Input and output video\n",
    "\n",
    "We will be using the same video as in the previous examples.\n",
    "Note: the video used in this example was downloaded from [youtube](https://www.youtube.com/watch?v=WgCe0tMO4lA)."
   ]
  },
  {
   "cell_type": "code",
   "execution_count": 127,
   "id": "fd4a70bd",
   "metadata": {},
   "outputs": [],
   "source": [
    "DATA_PATH = \"../data/\"\n",
    "\n",
    "# Input\n",
    "INPUT_VIDEO = DATA_PATH+\"/input/test_video.mp4\"\n",
    "START_FRAME = 10000\n",
    "MAX_FRAMES = 1000"
   ]
  },
  {
   "cell_type": "code",
   "execution_count": 4,
   "id": "390e9c90",
   "metadata": {},
   "outputs": [
    {
     "data": {
      "text/html": [
       "<div style=\"text-align: center\">\n",
       "    <video width=\"600\" height=\"400\" controls>\n",
       "      <source src=\"../data/input/test_video.mp4\" type=\"video/mp4\">\n",
       "    </video>\n",
       "</div>\n"
      ],
      "text/plain": [
       "<IPython.core.display.HTML object>"
      ]
     },
     "metadata": {},
     "output_type": "display_data"
    }
   ],
   "source": [
    "%%HTML\n",
    "<div style=\"text-align: center\">\n",
    "    <video width=\"600\" height=\"400\" controls>\n",
    "      <source src=\"../data/input/test_video.mp4\" type=\"video/mp4\">\n",
    "    </video>\n",
    "</div>"
   ]
  },
  {
   "cell_type": "code",
   "execution_count": 5,
   "id": "3753ded4",
   "metadata": {},
   "outputs": [],
   "source": [
    "# Output\n",
    "OUTPUT_VIDEO = DATA_PATH+ \"/output/test_output.avi\""
   ]
  },
  {
   "cell_type": "markdown",
   "id": "a3e3ef9b",
   "metadata": {},
   "source": [
    "#### Definition of ROIs"
   ]
  },
  {
   "cell_type": "code",
   "execution_count": 11,
   "id": "de65c162",
   "metadata": {},
   "outputs": [
    {
     "name": "stdout",
     "output_type": "stream",
     "text": [
      "{\n",
      "\t\"regions\": [\n",
      "\t\t{\n",
      "\t\t\t\"name\": \"upper_left\",\n",
      "\t\t\t\"polygon\": [[385, 315], [676, 334], [754, 625], [668, 810], [165, 757]],\n",
      "\t\t\t\"color\": [155,155,0]\n",
      "\t\t},\n",
      "\n",
      "\t\t{\n",
      "\t\t\t\"name\": \"lower_left\",\n",
      "\t\t\t\"polygon\": [[11, 532], [777, 606], [666, 1073], [5, 1074]],\n",
      "\t\t\t\"color\": [155,155,0]\n",
      "\t\t},\n",
      "\n",
      "\t\t{\n",
      "\t\t\t\"name\": \"upper_right\",\n",
      "\t\t\t\"polygon\": [[1057, 336], [908, 682], [954, 773], [1522, 754], [1565, 595], [1210, 305]],\n",
      "\t\t\t\"color\": [155,0,155]\n",
      "\t\t},\n",
      "\n",
      "\t\t{\n",
      "\t\t\t\"name\": \"lower_right\",\n",
      "\t\t\t\"polygon\": [[973, 1072], [949, 625], [1749, 538], [1904, 1068]],\n",
      "\t\t\t\"color\": [155,0,155]\n",
      "\t\t},\n",
      "\n",
      "\n",
      "\t\t{\n",
      "\t\t\t\"name\": \"winch\",\n",
      "\t\t\t\"polygon\": [[1088, 369], [592, 382], [570, 580], [1131, 584]],\n",
      "\t\t\t\"color\": [0,255,0]\n",
      "\t\t}\n",
      "\t]\t\t\n",
      "}"
     ]
    }
   ],
   "source": [
    "ROI_DEFINITION_FILE= DATA_PATH+\"/roi/mirtar.json\"\n",
    "!cat {ROI_DEFINITION_FILE}"
   ]
  },
  {
   "cell_type": "markdown",
   "id": "50affe2b",
   "metadata": {},
   "source": [
    "### Pipeline instantiation and execution"
   ]
  },
  {
   "cell_type": "code",
   "execution_count": 60,
   "id": "ffe75e40",
   "metadata": {},
   "outputs": [],
   "source": [
    "from videoanalytics.pipeline.sinks.roi import ROIView"
   ]
  },
  {
   "cell_type": "code",
   "execution_count": 61,
   "id": "64862208",
   "metadata": {},
   "outputs": [],
   "source": [
    "# 1. Create the global context\n",
    "context = {}\n",
    "\n",
    "# 2. Create the pipeline\n",
    "pipeline = Pipeline()\n",
    "\n",
    "# 3. Add components\n",
    "\n",
    "# 3.1 Source\n",
    "pipeline.add_component( VideoReader( \"input\",context,\n",
    "                 video_path=INPUT_VIDEO,\n",
    "                 start_frame=START_FRAME,\n",
    "                 max_frames=MAX_FRAMES))"
   ]
  },
  {
   "cell_type": "code",
   "execution_count": 62,
   "id": "20437489",
   "metadata": {},
   "outputs": [],
   "source": [
    "# 3.2 ROI viewer\n",
    "pipeline.add_component( ROIView(\"roi_view\",context,filename=ROI_DEFINITION_FILE,alpha=0.6 ) )"
   ]
  },
  {
   "cell_type": "code",
   "execution_count": 73,
   "id": "d7bdc674",
   "metadata": {},
   "outputs": [],
   "source": [
    "# 3.3 Sink\n",
    "pipeline.add_component(VideoWriter(\"writer\",context,filename=OUTPUT_VIDEO))"
   ]
  },
  {
   "cell_type": "code",
   "execution_count": 74,
   "id": "de696f0c",
   "metadata": {
    "scrolled": true
   },
   "outputs": [],
   "source": [
    "# 4. Define connections\n",
    "pipeline.set_connections([\n",
    "    (\"input\", \"roi_view\"),\n",
    "    (\"roi_view\", \"writer\")\n",
    "])"
   ]
  },
  {
   "cell_type": "code",
   "execution_count": 75,
   "id": "0c6fb6d9",
   "metadata": {},
   "outputs": [
    {
     "data": {
      "image/png": "[encoded data removed]",
      "text/plain": [
       "<Figure size 1584x576 with 1 Axes>"
      ]
     },
     "metadata": {
      "needs_background": "light"
     },
     "output_type": "display_data"
    }
   ],
   "source": [
    "import matplotlib.pyplot as plt\n",
    "\n",
    "fig,axes = plt.subplots(1,1,figsize=(22,8))\n",
    "pipeline.plot(ax=axes)"
   ]
  },
  {
   "cell_type": "code",
   "execution_count": 66,
   "id": "00f726d8",
   "metadata": {},
   "outputs": [
    {
     "data": {
      "application/vnd.jupyter.widget-view+json": {
       "model_id": "a0dee27af09d420b88f97eb8d0ced462",
       "version_major": 2,
       "version_minor": 0
      },
      "text/plain": [
       "  0%|          | 0/100.0 [00:00<?, ?it/s]"
      ]
     },
     "metadata": {},
     "output_type": "display_data"
    },
    {
     "name": "stdout",
     "output_type": "stream",
     "text": [
      "Total execution time [s]: 3.101937565996195\n"
     ]
    }
   ],
   "source": [
    "# 5. Execute\n",
    "pipeline.execute()\n",
    "print(\"Total execution time [s]:\", pipeline.get_total_execution_time())"
   ]
  },
  {
   "cell_type": "markdown",
   "id": "24e2d904",
   "metadata": {},
   "source": [
    "### Exploration of results"
   ]
  },
  {
   "cell_type": "markdown",
   "id": "3876b221",
   "metadata": {},
   "source": [
    "Display the output video with annotated bounding boxes.\n",
    "\n",
    "Note: currently XVID format is not supported by jupyter."
   ]
  },
  {
   "cell_type": "code",
   "execution_count": 52,
   "id": "c76f1625",
   "metadata": {},
   "outputs": [
    {
     "data": {
      "text/html": [
       "<div style=\"text-align: center\">\n",
       "    <video width=\"600\" height=\"400\" controls>\n",
       "      <source src=\"../data/output/test_output.avi\" type=\"video/mp4\">\n",
       "    </video>\n",
       "</div>\n"
      ],
      "text/plain": [
       "<IPython.core.display.HTML object>"
      ]
     },
     "metadata": {},
     "output_type": "display_data"
    }
   ],
   "source": [
    "%%HTML\n",
    "<div style=\"text-align: center\">\n",
    "    <video width=\"600\" height=\"400\" controls>\n",
    "      <source src=\"../data/output/test_output.avi\" type=\"video/mp4\">\n",
    "    </video>\n",
    "</div>"
   ]
  },
  {
   "cell_type": "markdown",
   "id": "51781a0f",
   "metadata": {},
   "source": [
    "## A pipeline for counting objects inside ROIs"
   ]
  },
  {
   "cell_type": "code",
   "execution_count": 70,
   "id": "e2bbf5bd",
   "metadata": {},
   "outputs": [],
   "source": [
    "from videoanalytics.pipeline.sinks.roi import ROIPresenceCounter\n",
    "from videoanalytics.pipeline.sinks.visualization import TextOverlay"
   ]
  },
  {
   "cell_type": "code",
   "execution_count": 71,
   "id": "92ef5dc3",
   "metadata": {},
   "outputs": [],
   "source": [
    "# Specific components for object detection\n",
    "from videoanalytics.pipeline.sinks.object_detection import DetectionsAnnotator, DetectionsCSVWriter\n",
    "from videoanalytics.pipeline.sinks.object_detection.yolo4 import YOLOv4DetectorTF"
   ]
  },
  {
   "cell_type": "code",
   "execution_count": 72,
   "id": "43dce3f2",
   "metadata": {},
   "outputs": [],
   "source": [
    "# Detector\n",
    "\n",
    "# Object Detector model weights (Tensorflow)\n",
    "DETECTOR_WEIGHTS_FILENAME = DATA_PATH+ \"object_detection/checkpoints/yolov4-416-tf\"\n",
    "#DETECTOR_WEIGHTS_FILENAME = DATA_PATH+ \"object_detection/checkpoints/yolov4-tiny-416\"\n",
    "\n",
    "\n",
    "# Classes names for Detections Annotator\n",
    "DETECTOR_CLASSES_FILENAME = DATA_PATH+\"object_detection/classes_definitions/coco.txt\"\n",
    "\n",
    "# CSV with Detections filename\n",
    "DETECTIONS_FILENAME = DATA_PATH+\"/output/detections.csv\""
   ]
  },
  {
   "cell_type": "markdown",
   "id": "f7a50054",
   "metadata": {},
   "source": [
    "### Pipeline instantiation and execution"
   ]
  },
  {
   "cell_type": "code",
   "execution_count": 128,
   "id": "32ed3a2b",
   "metadata": {},
   "outputs": [],
   "source": [
    "# 1. Create the global context\n",
    "context = {}\n",
    "\n",
    "# 2. Create the pipeline\n",
    "pipeline = Pipeline()\n",
    "\n",
    "# 3. Add components\n",
    "\n",
    "# 3.1 Source\n",
    "pipeline.add_component( VideoReader( \"input\",context,\n",
    "                 video_path=INPUT_VIDEO,\n",
    "                 start_frame=START_FRAME,\n",
    "                 max_frames=MAX_FRAMES))\n",
    "\n",
    "# 3.2 Detector\n",
    "pipeline.add_component( YOLOv4DetectorTF(\"detector\",context,weights_filename=DETECTOR_WEIGHTS_FILENAME) )\n",
    "\n",
    "\n",
    "# 3.3 Annotate detections in output video\n",
    "pipeline.add_component( DetectionsAnnotator(\"annotator\",context,\n",
    "                                             class_names_filename=DETECTOR_CLASSES_FILENAME,\n",
    "                                             show_label=True) )\n",
    "\n",
    "# 3.4 ROI viewer\n",
    "pipeline.add_component( ROIView(\"roi_view\",context,filename=ROI_DEFINITION_FILE,alpha=0.6 ) )\n",
    "\n",
    "# 3.5 ROI object counter\n",
    "pipeline.add_component( ROIPresenceCounter(\"roi_counter\",context,filename=ROI_DEFINITION_FILE) )\n",
    "\n",
    "# 3.5 Display variables on display\n",
    "pipeline.add_component( TextOverlay(\"stats_text\",context, \n",
    "                                    text=\"Upper left: {q_upper_left}\\n\"\n",
    "                                         \"Lower left: {q_lower_left}\\n\"\n",
    "                                         \"Upper right: {q_upper_right}\\n\"\n",
    "                                         \"Lower right: {q_lower_right}\\n\"\n",
    "                                         \"Winch: {q_winch}\\n\"\n",
    "                                         \"Total: {q_total}\",                                    \n",
    "                                    x=10,y=40) )\n",
    "\n",
    "# 3.6 Sink\n",
    "pipeline.add_component(VideoWriter(\"writer\",context,filename=OUTPUT_VIDEO))\n",
    "\n",
    "# 4. Define connections\n",
    "pipeline.set_connections([\n",
    "    (\"input\", \"detector\"),        \n",
    "    (\"detector\", \"roi_counter\"),\n",
    "    (\"detector\", \"annotator\"),\n",
    "    (\"roi_counter\", \"roi_view\"),\n",
    "    (\"roi_view\", \"annotator\"),   \n",
    "    (\"annotator\", \"stats_text\"),   \n",
    "    (\"stats_text\", \"writer\")\n",
    "])"
   ]
  },
  {
   "cell_type": "code",
   "execution_count": 129,
   "id": "3ace50f2",
   "metadata": {},
   "outputs": [
    {
     "data": {
      "image/png": "[encoded data removed]",
      "text/plain": [
       "<Figure size 1584x576 with 1 Axes>"
      ]
     },
     "metadata": {
      "needs_background": "light"
     },
     "output_type": "display_data"
    }
   ],
   "source": [
    "import matplotlib.pyplot as plt\n",
    "\n",
    "fig,axes = plt.subplots(1,1,figsize=(22,8))\n",
    "pipeline.plot(ax=axes)"
   ]
  },
  {
   "cell_type": "code",
   "execution_count": 130,
   "id": "e80af328",
   "metadata": {},
   "outputs": [
    {
     "data": {
      "application/vnd.jupyter.widget-view+json": {
       "model_id": "2a14938155c14c89bec90eface1459fd",
       "version_major": 2,
       "version_minor": 0
      },
      "text/plain": [
       "  0%|          | 0/100.0 [00:00<?, ?it/s]"
      ]
     },
     "metadata": {},
     "output_type": "display_data"
    },
    {
     "name": "stdout",
     "output_type": "stream",
     "text": [
      "Total execution time [s]: 749.1805971910071\n"
     ]
    }
   ],
   "source": [
    "# 5. Execute\n",
    "pipeline.execute()\n",
    "print(\"Total execution time [s]:\", pipeline.get_total_execution_time())"
   ]
  },
  {
   "cell_type": "markdown",
   "id": "fcf0edf7",
   "metadata": {},
   "source": [
    "## A pipeline for triggering events from ROI activity"
   ]
  },
  {
   "cell_type": "code",
   "execution_count": null,
   "id": "cc7e4d65",
   "metadata": {},
   "outputs": [],
   "source": [
    "#FIXME"
   ]
  },
  {
   "cell_type": "markdown",
   "id": "98473a63-7333-4938-93f2-2d4d6a2c2cdb",
   "metadata": {},
   "source": [
    "### Pipeline instantiation and execution"
   ]
  },
  {
   "cell_type": "code",
   "execution_count": null,
   "id": "24a98938-facd-4130-b73b-566ececd78ba",
   "metadata": {},
   "outputs": [],
   "source": [
    "DEEPSORT_MODEL_FILENAME = DATA_PATH+\"object_tracking/mars-small128.pb\""
   ]
  },
  {
   "cell_type": "code",
   "execution_count": null,
   "id": "14dcbb80-f3be-4852-9ef2-ea278d6ba7b1",
   "metadata": {},
   "outputs": [],
   "source": [
    "from videoanalytics.pipeline.sinks.object_tracking.deepsort import DeepSORT\n",
    "\n",
    "# 1. Create the global context\n",
    "context = {}\n",
    "\n",
    "# 2. Create the pipeline\n",
    "pipeline = Pipeline()\n",
    "\n",
    "# 3. Add components\n",
    "\n",
    "# 3.1 Source\n",
    "pipeline.add_component( VideoReader( \"input\",context,\n",
    "                 video_path=INPUT_VIDEO,\n",
    "                 start_frame=START_FRAME,\n",
    "                 max_frames=MAX_FRAMES))\n",
    "\n",
    "# 3.2 ROI viewer\n",
    "pipeline.add_component( ROIView(\"roi_view\",context,filename=ROI_DEFINITION_FILE,alpha=0.6 ) )\n",
    "\n",
    "# 3.3 Detector\n",
    "pipeline.add_component( YOLOv4DetectorTF(\"detector\",context,weights_filename=DETECTOR_WEIGHTS_FILENAME) )\n",
    "\n",
    "# 3.4 Tracker (DeepSORT)\n",
    "pipeline.add_component( DeepSORT(\"tracker\",context,model_filename=DEEPSORT_MODEL_FILENAME) )\n",
    "pipeline.add_component( TrackedObjectsAnnotator(\"tracker_annotator\",context) )\n",
    "\n",
    "# 3.5 Sink\n",
    "pipeline.add_component(VideoWriter(\"writer\",context,filename=OUTPUT_VIDEO))\n",
    "\n",
    "# 4. Define connections\n",
    "pipeline.set_connections([\n",
    "    (\"input\", \"roi_view\"),\n",
    "    (\"roi_view\", \"detector\"),\n",
    "    (\"detector\", \"tracker\"),\n",
    "    (\"tracker\", \"tracker_annotator\"),\n",
    "    (\"tracker_annotator\", \"writer\")\n",
    "])"
   ]
  },
  {
   "cell_type": "code",
   "execution_count": null,
   "id": "e24625d0-74f1-42e8-b757-f66442c91c23",
   "metadata": {},
   "outputs": [],
   "source": [
    "import matplotlib.pyplot as plt\n",
    "\n",
    "fig,axes = plt.subplots(1,1,figsize=(22,8))\n",
    "pipeline.plot(ax=axes)"
   ]
  },
  {
   "cell_type": "code",
   "execution_count": null,
   "id": "86febd6e-360b-4e7e-a74c-bdddb2c0cc0f",
   "metadata": {},
   "outputs": [],
   "source": [
    "# 5. Execute\n",
    "pipeline.execute()\n",
    "print(\"Total execution time [s]:\", pipeline.get_total_execution_time())"
   ]
  }
 ],
 "metadata": {
  "kernelspec": {
   "display_name": "Python 3",
   "language": "python",
   "name": "python3"
  },
  "language_info": {
   "codemirror_mode": {
    "name": "ipython",
    "version": 3
   },
   "file_extension": ".py",
   "mimetype": "text/x-python",
   "name": "python",
   "nbconvert_exporter": "python",
   "pygments_lexer": "ipython3",
   "version": "3.7.0"
  }
 },
 "nbformat": 4,
 "nbformat_minor": 5
}
