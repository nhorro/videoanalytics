{
 "cells": [
  {
   "cell_type": "markdown",
   "id": "729f0071",
   "metadata": {},
   "source": [
    "# A basic pipeline\n",
    "\n",
    "This example shows a basic pipeline that reads some frames of a video and writes them in an output video."
   ]
  },
  {
   "cell_type": "code",
   "execution_count": 1,
   "id": "1754bcde",
   "metadata": {},
   "outputs": [],
   "source": [
    "%load_ext autoreload\n",
    "%autoreload 2"
   ]
  },
  {
   "cell_type": "markdown",
   "id": "1ce1276d",
   "metadata": {},
   "source": [
    "For this example we will create a pipeline with only two components:\n",
    "- A source that reads from a video file.\n",
    "- A sink that writes to a video file."
   ]
  },
  {
   "cell_type": "code",
   "execution_count": 2,
   "id": "0cce6f8e",
   "metadata": {},
   "outputs": [],
   "source": [
    "from videoanalytics.pipeline import Pipeline\n",
    "from videoanalytics.pipeline.sources import VideoReader\n",
    "from videoanalytics.pipeline.sinks import VideoWriter"
   ]
  },
  {
   "cell_type": "markdown",
   "id": "4146eb3f",
   "metadata": {},
   "source": [
    "Note: the video used in this example was downloaded from [youtube](https://www.youtube.com/watch?v=WgCe0tMO4lA)."
   ]
  },
  {
   "cell_type": "code",
   "execution_count": 3,
   "id": "a39ef200",
   "metadata": {},
   "outputs": [],
   "source": [
    "DATA_PATH = \"../data\"\n",
    "\n",
    "# Input\n",
    "INPUT_VIDEO = DATA_PATH+\"/input/test_video.mp4\"\n",
    "START_FRAME = 0\n",
    "MAX_FRAMES = 100"
   ]
  },
  {
   "cell_type": "code",
   "execution_count": 4,
   "id": "aa80e40c",
   "metadata": {},
   "outputs": [
    {
     "data": {
      "text/html": [
       "<div style=\"text-align: center\">\n",
       "    <video width=\"600\" height=\"400\" controls>\n",
       "      <source src=\"../data/input/test_video.mp4\" type=\"video/mp4\">\n",
       "    </video>\n",
       "</div>\n"
      ],
      "text/plain": [
       "<IPython.core.display.HTML object>"
      ]
     },
     "metadata": {},
     "output_type": "display_data"
    }
   ],
   "source": [
    "%%HTML\n",
    "<div style=\"text-align: center\">\n",
    "    <video width=\"600\" height=\"400\" controls>\n",
    "      <source src=\"../data/input/test_video.mp4\" type=\"video/mp4\">\n",
    "    </video>\n",
    "</div>"
   ]
  },
  {
   "cell_type": "markdown",
   "id": "aee9db36",
   "metadata": {},
   "source": [
    "Path for output video."
   ]
  },
  {
   "cell_type": "code",
   "execution_count": 5,
   "id": "b1e6b81c",
   "metadata": {},
   "outputs": [],
   "source": [
    "OUTPUT_VIDEO = DATA_PATH+ \"/output/test_output.avi\""
   ]
  },
  {
   "cell_type": "markdown",
   "id": "d286b1a9",
   "metadata": {},
   "source": [
    "## Typical workflow\n",
    "\n",
    "The following steps illustrate the typical workflow for definining and executing a  pipeline."
   ]
  },
  {
   "cell_type": "markdown",
   "id": "572cc59d",
   "metadata": {},
   "source": [
    "Step 1. Create the global context used by components to share data."
   ]
  },
  {
   "cell_type": "code",
   "execution_count": 6,
   "id": "234f9717",
   "metadata": {},
   "outputs": [],
   "source": [
    "context = {}"
   ]
  },
  {
   "cell_type": "markdown",
   "id": "71a87de6",
   "metadata": {},
   "source": [
    "Step 2. Create the pipeline and add each component."
   ]
  },
  {
   "cell_type": "code",
   "execution_count": 7,
   "id": "04d5e388",
   "metadata": {},
   "outputs": [],
   "source": [
    "pipeline = Pipeline()"
   ]
  },
  {
   "cell_type": "code",
   "execution_count": 8,
   "id": "b5c661b4",
   "metadata": {},
   "outputs": [],
   "source": [
    "pipeline.add_component( VideoReader( \"input\",context,\n",
    "                 video_path=INPUT_VIDEO,\n",
    "                 start_frame=START_FRAME,\n",
    "                 max_frames=MAX_FRAMES))"
   ]
  },
  {
   "cell_type": "code",
   "execution_count": 9,
   "id": "63ba5e14",
   "metadata": {},
   "outputs": [],
   "source": [
    "pipeline.add_component(VideoWriter(\"writer\",context,filename=OUTPUT_VIDEO))"
   ]
  },
  {
   "cell_type": "markdown",
   "id": "fc860fdb",
   "metadata": {},
   "source": [
    "Step 3. Define the order of execution. Each tuple (A,B) indicates that B has to be executed after A."
   ]
  },
  {
   "cell_type": "code",
   "execution_count": 10,
   "id": "de696f0c",
   "metadata": {
    "scrolled": false
   },
   "outputs": [],
   "source": [
    "pipeline.set_connections([\n",
    "    (\"input\", \"writer\")\n",
    "])"
   ]
  },
  {
   "cell_type": "markdown",
   "id": "7973f185",
   "metadata": {},
   "source": [
    "Step 4 (optional). Remove isolated components and plot the graph."
   ]
  },
  {
   "cell_type": "code",
   "execution_count": 11,
   "id": "0a3ea482",
   "metadata": {},
   "outputs": [
    {
     "data": {
      "image/png": "[encoded data removed]",
      "text/plain": [
       "<Figure size 432x288 with 1 Axes>"
      ]
     },
     "metadata": {
      "needs_background": "light"
     },
     "output_type": "display_data"
    }
   ],
   "source": [
    "pipeline.optimize()\n",
    "pipeline.plot()"
   ]
  },
  {
   "cell_type": "markdown",
   "id": "87d5629c",
   "metadata": {},
   "source": [
    "Step 5. Execute the pipeline."
   ]
  },
  {
   "cell_type": "code",
   "execution_count": 12,
   "id": "10d531e2",
   "metadata": {},
   "outputs": [
    {
     "data": {
      "application/vnd.jupyter.widget-view+json": {
       "model_id": "fd34a7c4bbc043e59d109b9cba006d29",
       "version_major": 2,
       "version_minor": 0
      },
      "text/plain": [
       "  0%|          | 0/100.0 [00:00<?, ?it/s]"
      ]
     },
     "metadata": {},
     "output_type": "display_data"
    },
    {
     "name": "stdout",
     "output_type": "stream",
     "text": [
      "Total execution time [s]: 2.523271094993106\n"
     ]
    }
   ],
   "source": [
    "pipeline.execute()\n",
    "print(\"Total execution time [s]:\", pipeline.get_total_execution_time())"
   ]
  },
  {
   "cell_type": "markdown",
   "id": "271b065d",
   "metadata": {},
   "source": [
    "Step 6 (optional). Report the execution times for each component. Times are expressed in seconds."
   ]
  },
  {
   "cell_type": "code",
   "execution_count": 13,
   "id": "53910856",
   "metadata": {
    "scrolled": true
   },
   "outputs": [
    {
     "data": {
      "text/html": [
       "<div>\n",
       "<style scoped>\n",
       "    .dataframe tbody tr th:only-of-type {\n",
       "        vertical-align: middle;\n",
       "    }\n",
       "\n",
       "    .dataframe tbody tr th {\n",
       "        vertical-align: top;\n",
       "    }\n",
       "\n",
       "    .dataframe thead th {\n",
       "        text-align: right;\n",
       "    }\n",
       "</style>\n",
       "<table border=\"1\" class=\"dataframe\">\n",
       "  <thead>\n",
       "    <tr style=\"text-align: right;\">\n",
       "      <th></th>\n",
       "      <th>time</th>\n",
       "    </tr>\n",
       "  </thead>\n",
       "  <tbody>\n",
       "    <tr>\n",
       "      <th>input_avg_dt</th>\n",
       "      <td>0.005727</td>\n",
       "    </tr>\n",
       "    <tr>\n",
       "      <th>writer_avg_dt</th>\n",
       "      <td>0.019174</td>\n",
       "    </tr>\n",
       "  </tbody>\n",
       "</table>\n",
       "</div>"
      ],
      "text/plain": [
       "                   time\n",
       "input_avg_dt   0.005727\n",
       "writer_avg_dt  0.019174"
      ]
     },
     "execution_count": 13,
     "metadata": {},
     "output_type": "execute_result"
    }
   ],
   "source": [
    "import pandas as pd\n",
    "\n",
    "metrics_df = pd.DataFrame.from_dict(pipeline.get_metrics(), orient='index',columns=[\"time\"])\n",
    "metrics_df"
   ]
  },
  {
   "cell_type": "markdown",
   "id": "4e41efb7",
   "metadata": {},
   "source": [
    "Display the output video. \n",
    "\n",
    "Note: currently XVID format is not supported by jupyter."
   ]
  },
  {
   "cell_type": "code",
   "execution_count": 14,
   "id": "cfcfbae7",
   "metadata": {
    "scrolled": true
   },
   "outputs": [
    {
     "data": {
      "text/html": [
       "<div style=\"text-align: center\">\n",
       "    <video width=\"600\" height=\"400\" controls>\n",
       "      <source src=\"../data/output/test_output.avi\" type=\"video/avi\">\n",
       "    </video>\n",
       "</div>\n"
      ],
      "text/plain": [
       "<IPython.core.display.HTML object>"
      ]
     },
     "metadata": {},
     "output_type": "display_data"
    }
   ],
   "source": [
    "%%HTML\n",
    "<div style=\"text-align: center\">\n",
    "    <video width=\"600\" height=\"400\" controls>\n",
    "      <source src=\"../data/output/test_output.avi\" type=\"video/avi\">\n",
    "    </video>\n",
    "</div>"
   ]
  }
 ],
 "metadata": {
  "kernelspec": {
   "display_name": "Python 3",
   "language": "python",
   "name": "python3"
  },
  "language_info": {
   "codemirror_mode": {
    "name": "ipython",
    "version": 3
   },
   "file_extension": ".py",
   "mimetype": "text/x-python",
   "name": "python",
   "nbconvert_exporter": "python",
   "pygments_lexer": "ipython3",
   "version": "3.7.0"
  }
 },
 "nbformat": 4,
 "nbformat_minor": 5
}
