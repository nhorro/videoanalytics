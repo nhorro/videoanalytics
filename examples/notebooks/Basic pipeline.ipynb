{
 "cells": [
  {
   "cell_type": "markdown",
   "id": "729f0071",
   "metadata": {},
   "source": [
    "# A basic pipeline\n",
    "\n",
    "This example shows a basic pipeline that reads some frames of a video and writes them in an output video."
   ]
  },
  {
   "cell_type": "code",
   "execution_count": 1,
   "id": "1754bcde",
   "metadata": {},
   "outputs": [],
   "source": [
    "%load_ext autoreload\n",
    "%autoreload 2"
   ]
  },
  {
   "cell_type": "code",
   "execution_count": 2,
   "id": "9ad3d4f9",
   "metadata": {},
   "outputs": [],
   "source": [
    "import videoanalytics\n",
    "import pandas as pd"
   ]
  },
  {
   "cell_type": "code",
   "execution_count": 3,
   "id": "0cce6f8e",
   "metadata": {},
   "outputs": [],
   "source": [
    "from videoanalytics.pipeline import Pipeline\n",
    "from videoanalytics.pipeline.sources import VideoReader\n",
    "from videoanalytics.pipeline.sinks import VideoWriter"
   ]
  },
  {
   "cell_type": "code",
   "execution_count": 4,
   "id": "a39ef200",
   "metadata": {},
   "outputs": [],
   "source": [
    "DATA_PATH = \"../data\"\n",
    "\n",
    "# Input\n",
    "INPUT_VIDEO = DATA_PATH+\"/test_video.mp4\"\n",
    "START_FRAME = 0\n",
    "MAX_FRAMES = 10\n",
    "\n",
    "# Output\n",
    "OUTPUT_VIDEO = DATA_PATH+ \"/output.mp4\""
   ]
  },
  {
   "cell_type": "code",
   "execution_count": 5,
   "id": "de696f0c",
   "metadata": {
    "scrolled": false
   },
   "outputs": [
    {
     "data": {
      "application/vnd.jupyter.widget-view+json": {
       "model_id": "73b228a3662a4b1781a7bb3e62cba7bc",
       "version_major": 2,
       "version_minor": 0
      },
      "text/plain": [
       "  0%|          | 0/10 [00:00<?, ?it/s]"
      ]
     },
     "metadata": {},
     "output_type": "display_data"
    }
   ],
   "source": [
    "# 1. Create the global context\n",
    "context = {}\n",
    "\n",
    "# 2. Create the pipeline\n",
    "pipeline = Pipeline()\n",
    "\n",
    "# 3. Add components\n",
    "\n",
    "# 3.1 Source\n",
    "pipeline.add_component( VideoReader( \"input\",context,\n",
    "                 video_path=INPUT_VIDEO,\n",
    "                 start_frame=START_FRAME,\n",
    "                 max_frames=MAX_FRAMES))\n",
    "\n",
    "# 3.2 Sink\n",
    "pipeline.add_component(VideoWriter(\"writer\",context,filename=OUTPUT_VIDEO))\n",
    "\n",
    "# 4. Define connections\n",
    "pipeline.set_connections([\n",
    "    (\"input\", \"writer\")\n",
    "])\n",
    "\n",
    "# 5. Execute\n",
    "pipeline.execute()\n",
    "\n",
    "# 6. Report (optional)\n",
    "metrics_df = pd.DataFrame.from_dict(pipeline.get_metrics(), orient='index',columns=[\"time\"])"
   ]
  },
  {
   "cell_type": "code",
   "execution_count": 6,
   "id": "53910856",
   "metadata": {},
   "outputs": [
    {
     "data": {
      "image/png": "[encoded data removed]",
      "text/plain": [
       "<Figure size 432x288 with 1 Axes>"
      ]
     },
     "metadata": {
      "needs_background": "light"
     },
     "output_type": "display_data"
    }
   ],
   "source": [
    "pipeline.plot()"
   ]
  },
  {
   "cell_type": "code",
   "execution_count": 7,
   "id": "00509eee",
   "metadata": {},
   "outputs": [
    {
     "data": {
      "text/html": [
       "<div>\n",
       "<style scoped>\n",
       "    .dataframe tbody tr th:only-of-type {\n",
       "        vertical-align: middle;\n",
       "    }\n",
       "\n",
       "    .dataframe tbody tr th {\n",
       "        vertical-align: top;\n",
       "    }\n",
       "\n",
       "    .dataframe thead th {\n",
       "        text-align: right;\n",
       "    }\n",
       "</style>\n",
       "<table border=\"1\" class=\"dataframe\">\n",
       "  <thead>\n",
       "    <tr style=\"text-align: right;\">\n",
       "      <th></th>\n",
       "      <th>time</th>\n",
       "    </tr>\n",
       "  </thead>\n",
       "  <tbody>\n",
       "    <tr>\n",
       "      <th>input_avg_dt</th>\n",
       "      <td>0.004443</td>\n",
       "    </tr>\n",
       "    <tr>\n",
       "      <th>writer_avg_dt</th>\n",
       "      <td>0.039335</td>\n",
       "    </tr>\n",
       "  </tbody>\n",
       "</table>\n",
       "</div>"
      ],
      "text/plain": [
       "                   time\n",
       "input_avg_dt   0.004443\n",
       "writer_avg_dt  0.039335"
      ]
     },
     "execution_count": 7,
     "metadata": {},
     "output_type": "execute_result"
    }
   ],
   "source": [
    "metrics_df"
   ]
  }
 ],
 "metadata": {
  "kernelspec": {
   "display_name": "Python 3",
   "language": "python",
   "name": "python3"
  },
  "language_info": {
   "codemirror_mode": {
    "name": "ipython",
    "version": 3
   },
   "file_extension": ".py",
   "mimetype": "text/x-python",
   "name": "python",
   "nbconvert_exporter": "python",
   "pygments_lexer": "ipython3",
   "version": "3.7.0"
  }
 },
 "nbformat": 4,
 "nbformat_minor": 5
}
