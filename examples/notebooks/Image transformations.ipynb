{
 "cells": [
  {
   "cell_type": "markdown",
   "id": "729f0071",
   "metadata": {},
   "source": [
    "# Image transformation pipeline\n",
    "\n",
    "This example shows a basic pipeline that reads some frames, resizes them and writes them in an output video.\n",
    "\n",
    "Note that the VideoWriter needs to be initialized with the desired output width and height, which are not available until the first iteration of the Resizer. This is a current limitation of the library: some attributes that affect multiple components must be defined at pipeline instantiation and are inmutable."
   ]
  },
  {
   "cell_type": "code",
   "execution_count": 1,
   "id": "1754bcde",
   "metadata": {},
   "outputs": [],
   "source": [
    "%load_ext autoreload\n",
    "%autoreload 2"
   ]
  },
  {
   "cell_type": "code",
   "execution_count": 2,
   "id": "0cce6f8e",
   "metadata": {},
   "outputs": [],
   "source": [
    "from videoanalytics.pipeline import Pipeline\n",
    "from videoanalytics.pipeline.sources import VideoReader\n",
    "from videoanalytics.pipeline.sinks import VideoWriter\n",
    "from videoanalytics.pipeline.sinks.transformation import Resizer"
   ]
  },
  {
   "cell_type": "markdown",
   "id": "590a7498",
   "metadata": {},
   "source": [
    "Note: the video used in this example was downloaded from [youtube](https://www.youtube.com/watch?v=WgCe0tMO4lA)."
   ]
  },
  {
   "cell_type": "code",
   "execution_count": 3,
   "id": "2a0eb925",
   "metadata": {},
   "outputs": [],
   "source": [
    "DATA_PATH = \"../data\"\n",
    "\n",
    "# Input\n",
    "INPUT_VIDEO = DATA_PATH+\"/input/test_video.mp4\"\n",
    "START_FRAME = 0\n",
    "MAX_FRAMES = 100"
   ]
  },
  {
   "cell_type": "code",
   "execution_count": 4,
   "id": "83dae56c",
   "metadata": {},
   "outputs": [
    {
     "data": {
      "text/html": [
       "<div style=\"text-align: center\">\n",
       "    <video width=\"600\" height=\"400\" controls>\n",
       "      <source src=\"../data/input/test_video.mp4\" type=\"video/mp4\">\n",
       "    </video>\n",
       "</div>\n"
      ],
      "text/plain": [
       "<IPython.core.display.HTML object>"
      ]
     },
     "metadata": {},
     "output_type": "display_data"
    }
   ],
   "source": [
    "%%HTML\n",
    "<div style=\"text-align: center\">\n",
    "    <video width=\"600\" height=\"400\" controls>\n",
    "      <source src=\"../data/input/test_video.mp4\" type=\"video/mp4\">\n",
    "    </video>\n",
    "</div>"
   ]
  },
  {
   "cell_type": "code",
   "execution_count": 5,
   "id": "a39ef200",
   "metadata": {},
   "outputs": [],
   "source": [
    "# Output\n",
    "OUTPUT_VIDEO = DATA_PATH+ \"/output/test_output.avi\"\n",
    "\n",
    "RESIZE_WIDTH = 320\n",
    "RESIZE_HEIGHT = 240"
   ]
  },
  {
   "cell_type": "code",
   "execution_count": 6,
   "id": "de696f0c",
   "metadata": {
    "scrolled": false
   },
   "outputs": [],
   "source": [
    "# 1. Create the global context\n",
    "context = {}\n",
    "\n",
    "# 2. Create the pipeline\n",
    "pipeline = Pipeline()\n",
    "\n",
    "# 3. Add components\n",
    "\n",
    "# 3.1 Source\n",
    "pipeline.add_component( VideoReader( \"input\",context,\n",
    "                 video_path=INPUT_VIDEO,\n",
    "                 start_frame=START_FRAME,\n",
    "                 max_frames=MAX_FRAMES))\n",
    "\n",
    "# 3.2 Resizer\n",
    "pipeline.add_component( Resizer(\"resizer\",context,output_w=RESIZE_WIDTH,output_h=RESIZE_HEIGHT) )\n",
    "\n",
    "# 3.3 Sink\n",
    "pipeline.add_component(VideoWriter(\"writer\",context,\n",
    "                                   filename=OUTPUT_VIDEO,\n",
    "                                   fps=None,\n",
    "                                   width=RESIZE_WIDTH,\n",
    "                                   height=RESIZE_HEIGHT\n",
    "                                  ))"
   ]
  },
  {
   "cell_type": "code",
   "execution_count": 7,
   "id": "7bf154ec",
   "metadata": {},
   "outputs": [],
   "source": [
    "# 4. Define connections\n",
    "pipeline.set_connections([\n",
    "    (\"input\", \"resizer\"),\n",
    "    (\"resizer\", \"writer\")\n",
    "])"
   ]
  },
  {
   "cell_type": "code",
   "execution_count": 8,
   "id": "c3a8528d",
   "metadata": {},
   "outputs": [
    {
     "data": {
      "image/png": "[encoded data removed]",
      "text/plain": [
       "<Figure size 432x288 with 1 Axes>"
      ]
     },
     "metadata": {
      "needs_background": "light"
     },
     "output_type": "display_data"
    }
   ],
   "source": [
    "# 5. Remove isolated components (if any) and plot.\n",
    "pipeline.optimize()\n",
    "pipeline.plot()"
   ]
  },
  {
   "cell_type": "code",
   "execution_count": 9,
   "id": "84cfdd61",
   "metadata": {},
   "outputs": [
    {
     "data": {
      "application/vnd.jupyter.widget-view+json": {
       "model_id": "4d1cb35a72a84c28b82446de90712526",
       "version_major": 2,
       "version_minor": 0
      },
      "text/plain": [
       "  0%|          | 0/100.0 [00:00<?, ?it/s]"
      ]
     },
     "metadata": {},
     "output_type": "display_data"
    },
    {
     "name": "stdout",
     "output_type": "stream",
     "text": [
      "Total execution time [s]: 2.078629103998537\n"
     ]
    }
   ],
   "source": [
    "# 5. Execute\n",
    "pipeline.execute()\n",
    "print(\"Total execution time [s]:\", pipeline.get_total_execution_time())"
   ]
  },
  {
   "cell_type": "code",
   "execution_count": 10,
   "id": "00601c04",
   "metadata": {},
   "outputs": [
    {
     "data": {
      "text/html": [
       "<div>\n",
       "<style scoped>\n",
       "    .dataframe tbody tr th:only-of-type {\n",
       "        vertical-align: middle;\n",
       "    }\n",
       "\n",
       "    .dataframe tbody tr th {\n",
       "        vertical-align: top;\n",
       "    }\n",
       "\n",
       "    .dataframe thead th {\n",
       "        text-align: right;\n",
       "    }\n",
       "</style>\n",
       "<table border=\"1\" class=\"dataframe\">\n",
       "  <thead>\n",
       "    <tr style=\"text-align: right;\">\n",
       "      <th></th>\n",
       "      <th>time [s]</th>\n",
       "    </tr>\n",
       "  </thead>\n",
       "  <tbody>\n",
       "    <tr>\n",
       "      <th>input_avg_dt</th>\n",
       "      <td>0.008886</td>\n",
       "    </tr>\n",
       "    <tr>\n",
       "      <th>resizer_avg_dt</th>\n",
       "      <td>0.010668</td>\n",
       "    </tr>\n",
       "    <tr>\n",
       "      <th>writer_avg_dt</th>\n",
       "      <td>0.000925</td>\n",
       "    </tr>\n",
       "  </tbody>\n",
       "</table>\n",
       "</div>"
      ],
      "text/plain": [
       "                time [s]\n",
       "input_avg_dt    0.008886\n",
       "resizer_avg_dt  0.010668\n",
       "writer_avg_dt   0.000925"
      ]
     },
     "execution_count": 10,
     "metadata": {},
     "output_type": "execute_result"
    }
   ],
   "source": [
    "# 6. Report (optional)\n",
    "import pandas as pd\n",
    "metrics_df = pd.DataFrame.from_dict(pipeline.get_metrics(), orient='index',columns=[\"time [s]\"])\n",
    "metrics_df"
   ]
  },
  {
   "cell_type": "markdown",
   "id": "4e41efb7",
   "metadata": {},
   "source": [
    "Display the output video. \n",
    "\n",
    "Note: currently XVID format is not supported by jupyter."
   ]
  },
  {
   "cell_type": "code",
   "execution_count": 11,
   "id": "cfcfbae7",
   "metadata": {
    "scrolled": true
   },
   "outputs": [
    {
     "data": {
      "text/html": [
       "<div style=\"text-align: center\">\n",
       "    <video width=\"600\" height=\"400\" controls>\n",
       "      <source src=\"../data/output/test_output.avi\" type=\"video/avi\">\n",
       "    </video>\n",
       "</div>\n"
      ],
      "text/plain": [
       "<IPython.core.display.HTML object>"
      ]
     },
     "metadata": {},
     "output_type": "display_data"
    }
   ],
   "source": [
    "%%HTML\n",
    "<div style=\"text-align: center\">\n",
    "    <video width=\"600\" height=\"400\" controls>\n",
    "      <source src=\"../data/output/test_output.avi\" type=\"video/avi\">\n",
    "    </video>\n",
    "</div>"
   ]
  }
 ],
 "metadata": {
  "kernelspec": {
   "display_name": "Python 3",
   "language": "python",
   "name": "python3"
  },
  "language_info": {
   "codemirror_mode": {
    "name": "ipython",
    "version": 3
   },
   "file_extension": ".py",
   "mimetype": "text/x-python",
   "name": "python",
   "nbconvert_exporter": "python",
   "pygments_lexer": "ipython3",
   "version": "3.7.0"
  }
 },
 "nbformat": 4,
 "nbformat_minor": 5
}
