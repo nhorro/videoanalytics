{
 "cells": [
  {
   "cell_type": "markdown",
   "id": "7b6ca89a",
   "metadata": {},
   "source": [
    "# Object tracking pipeline\n",
    "\n",
    "This example shows a basic pipeline that performs object tracking.\n",
    "\n",
    "Contents:\n",
    "\n",
    "- Object tracking pipeline with SORT algorithm.\n",
    "- Object tracking pipeline with DeepSORT algorithm."
   ]
  },
  {
   "cell_type": "code",
   "execution_count": 1,
   "id": "48f08ba9",
   "metadata": {},
   "outputs": [],
   "source": [
    "%load_ext autoreload\n",
    "%autoreload 2"
   ]
  },
  {
   "cell_type": "code",
   "execution_count": 2,
   "id": "746a47d6",
   "metadata": {},
   "outputs": [],
   "source": [
    "from videoanalytics.pipeline import Pipeline\n",
    "from videoanalytics.pipeline.sources import VideoReader\n",
    "from videoanalytics.pipeline.sinks import VideoWriter"
   ]
  },
  {
   "cell_type": "markdown",
   "id": "d3efd4fd",
   "metadata": {},
   "source": [
    "We will be using the same video as in the previous examples.\n",
    "Note: the video used in this example was downloaded from [youtube](https://www.youtube.com/watch?v=WgCe0tMO4lA)."
   ]
  },
  {
   "cell_type": "code",
   "execution_count": 29,
   "id": "2eaa632d",
   "metadata": {},
   "outputs": [],
   "source": [
    "DATA_PATH = \"../data/\"\n",
    "\n",
    "# Input\n",
    "INPUT_VIDEO = DATA_PATH+\"/input/test_video.mp4\"\n",
    "START_FRAME = 0\n",
    "MAX_FRAMES = 1000"
   ]
  },
  {
   "cell_type": "code",
   "execution_count": 4,
   "id": "b1691412",
   "metadata": {
    "scrolled": true
   },
   "outputs": [
    {
     "data": {
      "text/html": [
       "<div style=\"text-align: center\">\n",
       "    <video width=\"600\" height=\"400\" controls>\n",
       "      <source src=\"../data/input/test_video.mp4\" type=\"video/mp4\">\n",
       "    </video>\n",
       "</div>\n"
      ],
      "text/plain": [
       "<IPython.core.display.HTML object>"
      ]
     },
     "metadata": {},
     "output_type": "display_data"
    }
   ],
   "source": [
    "%%HTML\n",
    "<div style=\"text-align: center\">\n",
    "    <video width=\"600\" height=\"400\" controls>\n",
    "      <source src=\"../data/input/test_video.mp4\" type=\"video/mp4\">\n",
    "    </video>\n",
    "</div>"
   ]
  },
  {
   "cell_type": "code",
   "execution_count": 5,
   "id": "34699206",
   "metadata": {},
   "outputs": [],
   "source": [
    "# Output\n",
    "OUTPUT_VIDEO = DATA_PATH+ \"/output/test_output.avi\""
   ]
  },
  {
   "cell_type": "markdown",
   "id": "0339f8b7",
   "metadata": {},
   "source": [
    "Object tracking requires that objects are identified in each individual frame. To perform this task the same components of the object detection examples will be used in the pipeline."
   ]
  },
  {
   "cell_type": "code",
   "execution_count": 6,
   "id": "9634539f",
   "metadata": {},
   "outputs": [],
   "source": [
    "# Specific components for object detection\n",
    "from videoanalytics.pipeline.sinks.object_detection import DetectionsAnnotator, DetectionsCSVWriter\n",
    "from videoanalytics.pipeline.sinks.object_detection.yolo4 import YOLOv4DetectorTF"
   ]
  },
  {
   "cell_type": "code",
   "execution_count": 8,
   "id": "4008c7aa",
   "metadata": {},
   "outputs": [],
   "source": [
    "# Detector\n",
    "\n",
    "# Object Detector model weights (Tensorflow)\n",
    "DETECTOR_WEIGHTS_FILENAME = DATA_PATH+ \"object_detection/checkpoints/yolov4-416-tf\"\n",
    "#DETECTOR_WEIGHTS_FILENAME = DATA_PATH+ \"object_detection/checkpoints/yolov4-tiny-416\"\n",
    "\n",
    "\n",
    "# Classes names for Detections Annotator\n",
    "DETECTOR_CLASSES_FILENAME = DATA_PATH+\"object_detection/classes_definitions/coco.txt\"\n",
    "\n",
    "# CSV with Detections filename\n",
    "DETECTIONS_FILENAME = DATA_PATH+\"/output/detections.csv\""
   ]
  },
  {
   "cell_type": "markdown",
   "id": "23fd0226",
   "metadata": {},
   "source": [
    "## Object tracking pipeline with SORT algorithm"
   ]
  },
  {
   "cell_type": "code",
   "execution_count": 34,
   "id": "4a2bbb83",
   "metadata": {
    "scrolled": true
   },
   "outputs": [],
   "source": [
    "from videoanalytics.pipeline.sinks.object_tracking import TrackedObjectsAnnotator, TrackedObjectsCSVWriter\n",
    "from videoanalytics.pipeline.sinks.object_tracking.sort import SORT\n",
    "\n",
    "TRACKED_OBJS_FILENAME = DATA_PATH+\"/output/trackings.csv\""
   ]
  },
  {
   "cell_type": "code",
   "execution_count": 35,
   "id": "de484833",
   "metadata": {},
   "outputs": [],
   "source": [
    "# 1. Create the global context\n",
    "context = {}\n",
    "\n",
    "# 2. Create the pipeline\n",
    "pipeline = Pipeline()\n",
    "\n",
    "# 3. Add components\n",
    "\n",
    "# 3.1 Source\n",
    "pipeline.add_component( VideoReader( \"input\",context,\n",
    "                 video_path=INPUT_VIDEO,\n",
    "                 start_frame=START_FRAME,\n",
    "                 max_frames=MAX_FRAMES))\n",
    "\n",
    "# 3.2 Detector\n",
    "pipeline.add_component( YOLOv4DetectorTF(\"detector\",context,weights_filename=DETECTOR_WEIGHTS_FILENAME) )\n",
    "\n",
    "# 3.3 Tracker (SORT)\n",
    "pipeline.add_component( SORT(\"tracker\",context) )\n",
    "\n",
    "# 3.4 Annotate tracked objects in output video\n",
    "pipeline.add_component( TrackedObjectsAnnotator(\"tracker_annotator\",context) )\n",
    "\n",
    "# 3.5 Save trackings to CSV for posterior anayisis\n",
    "pipeline.add_component( TrackedObjectsCSVWriter(\"tracker_csv_writer\",context, filename = TRACKED_OBJS_FILENAME) )\n",
    "\n",
    "# 3.6 Output video\n",
    "pipeline.add_component(VideoWriter(\"writer\",context,filename=OUTPUT_VIDEO))"
   ]
  },
  {
   "cell_type": "code",
   "execution_count": 36,
   "id": "ab8d30be",
   "metadata": {},
   "outputs": [],
   "source": [
    "# 4. Define connections\n",
    "pipeline.set_connections([\n",
    "    (\"input\", \"detector\"),\n",
    "    (\"detector\", \"tracker\"),\n",
    "    (\"tracker\", \"tracker_annotator\"),\n",
    "    (\"tracker\", \"tracker_csv_writer\"),\n",
    "    (\"tracker_annotator\", \"writer\")\n",
    "])"
   ]
  },
  {
   "cell_type": "code",
   "execution_count": 37,
   "id": "7b02caed",
   "metadata": {},
   "outputs": [
    {
     "data": {
      "image/png": "[encoded data removed]",
      "text/plain": [
       "<Figure size 432x288 with 1 Axes>"
      ]
     },
     "metadata": {
      "needs_background": "light"
     },
     "output_type": "display_data"
    }
   ],
   "source": [
    "pipeline.optimize()\n",
    "pipeline.plot()"
   ]
  },
  {
   "cell_type": "code",
   "execution_count": 38,
   "id": "e1aebf02",
   "metadata": {
    "scrolled": true
   },
   "outputs": [
    {
     "data": {
      "application/vnd.jupyter.widget-view+json": {
       "model_id": "bb1cc65ecc6a4a8a96621080de5d2508",
       "version_major": 2,
       "version_minor": 0
      },
      "text/plain": [
       "  0%|          | 0/100.0 [00:00<?, ?it/s]"
      ]
     },
     "metadata": {},
     "output_type": "display_data"
    },
    {
     "name": "stdout",
     "output_type": "stream",
     "text": [
      "Total execution time [s]: 51.490685511002084\n"
     ]
    }
   ],
   "source": [
    "# 5. Execute\n",
    "pipeline.execute()\n",
    "print(\"Total execution time [s]:\", pipeline.get_total_execution_time())"
   ]
  },
  {
   "cell_type": "markdown",
   "id": "b14547cc",
   "metadata": {},
   "source": [
    "### Exploration of results"
   ]
  },
  {
   "cell_type": "code",
   "execution_count": 13,
   "id": "96069a3d",
   "metadata": {},
   "outputs": [],
   "source": [
    "#FIXME"
   ]
  },
  {
   "cell_type": "markdown",
   "id": "05b54d85",
   "metadata": {},
   "source": [
    "## Object tracking pipeline with DeepSORT algorithm"
   ]
  },
  {
   "cell_type": "code",
   "execution_count": 26,
   "id": "beaa6615",
   "metadata": {},
   "outputs": [],
   "source": [
    "DEEPSORT_MODEL_FILENAME = DATA_PATH+\"object_tracking/mars-small128.pb\"\n",
    "MAX_FRAMES = 10"
   ]
  },
  {
   "cell_type": "code",
   "execution_count": 32,
   "id": "b1e0f72a",
   "metadata": {},
   "outputs": [
    {
     "data": {
      "application/vnd.jupyter.widget-view+json": {
       "model_id": "1724f2fe34894eadafb718a159711503",
       "version_major": 2,
       "version_minor": 0
      },
      "text/plain": [
       "  0%|          | 0/100.0 [00:00<?, ?it/s]"
      ]
     },
     "metadata": {},
     "output_type": "display_data"
    },
    {
     "name": "stdout",
     "output_type": "stream",
     "text": [
      "Total execution time [s]: 51.2086620200007\n"
     ]
    }
   ],
   "source": [
    "from videoanalytics.pipeline.sinks.object_tracking.deepsort import DeepSORT\n",
    "\n",
    "# 1. Create the global context\n",
    "context = {}\n",
    "\n",
    "# 2. Create the pipeline\n",
    "pipeline = Pipeline()\n",
    "\n",
    "# 3. Add components\n",
    "\n",
    "# 3.1 Source\n",
    "pipeline.add_component( VideoReader( \"input\",context,\n",
    "                 video_path=INPUT_VIDEO,\n",
    "                 start_frame=START_FRAME,\n",
    "                 max_frames=MAX_FRAMES))\n",
    "\n",
    "# 3.2 Detector\n",
    "pipeline.add_component( YOLOv4DetectorTF(\"detector\",context,weights_filename=DETECTOR_WEIGHTS_FILENAME) )\n",
    "\n",
    "# 3.3 Tracker (DeepSORT)\n",
    "pipeline.add_component( DeepSORT(\"tracker\",context,model_filename=DEEPSORT_MODEL_FILENAME) )\n",
    "pipeline.add_component( TrackedObjectsAnnotator(\"tracker_annotator\",context) )\n",
    "\n",
    "# 3.3 Sink\n",
    "pipeline.add_component(VideoWriter(\"writer\",context,filename=OUTPUT_VIDEO))\n",
    "\n",
    "# 4. Define connections\n",
    "pipeline.set_connections([\n",
    "    (\"input\", \"detector\"),\n",
    "    (\"detector\", \"tracker\"),\n",
    "    (\"tracker\", \"tracker_annotator\"),\n",
    "    (\"tracker_annotator\", \"writer\")\n",
    "])\n",
    "\n",
    "# 5. Execute\n",
    "pipeline.execute()\n",
    "print(\"Total execution time [s]:\", pipeline.get_total_execution_time())"
   ]
  }
 ],
 "metadata": {
  "kernelspec": {
   "display_name": "Python 3",
   "language": "python",
   "name": "python3"
  },
  "language_info": {
   "codemirror_mode": {
    "name": "ipython",
    "version": 3
   },
   "file_extension": ".py",
   "mimetype": "text/x-python",
   "name": "python",
   "nbconvert_exporter": "python",
   "pygments_lexer": "ipython3",
   "version": "3.7.0"
  }
 },
 "nbformat": 4,
 "nbformat_minor": 5
}
