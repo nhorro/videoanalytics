{
 "cells": [
  {
   "cell_type": "markdown",
   "id": "7b6ca89a",
   "metadata": {},
   "source": [
    "# Integration with databases\n",
    "\n",
    "This example shows how to store the results of a pipeline to a database.\n",
    "\n",
    "Contents:\n",
    "\n",
    "- Integration with InfluxDB (time series).\n",
    "- Integration with ElasticSearch (structured documents)."
   ]
  },
  {
   "cell_type": "code",
   "execution_count": 1,
   "id": "48f08ba9",
   "metadata": {},
   "outputs": [],
   "source": [
    "%load_ext autoreload\n",
    "%autoreload 2"
   ]
  },
  {
   "cell_type": "code",
   "execution_count": 2,
   "id": "746a47d6",
   "metadata": {
    "scrolled": true
   },
   "outputs": [],
   "source": [
    "from videoanalytics.pipeline import Pipeline\n",
    "from videoanalytics.pipeline.sources import VideoReader\n",
    "from videoanalytics.pipeline.sinks import VideoWriter"
   ]
  },
  {
   "cell_type": "markdown",
   "id": "d3efd4fd",
   "metadata": {},
   "source": [
    "We will be using the same video as in the previous examples.\n",
    "Note: the video used in this example was downloaded from [youtube](https://www.youtube.com/watch?v=WgCe0tMO4lA)."
   ]
  },
  {
   "cell_type": "code",
   "execution_count": 3,
   "id": "2eaa632d",
   "metadata": {},
   "outputs": [],
   "source": [
    "DATA_PATH = \"../data/\"\n",
    "\n",
    "# Input\n",
    "INPUT_VIDEO = DATA_PATH+\"/input/test_video.mp4\"\n",
    "START_FRAME = 8000\n",
    "MAX_FRAMES = 100"
   ]
  },
  {
   "cell_type": "code",
   "execution_count": 4,
   "id": "b1691412",
   "metadata": {
    "scrolled": true
   },
   "outputs": [
    {
     "data": {
      "text/html": [
       "<div style=\"text-align: center\">\n",
       "    <video width=\"600\" height=\"400\" controls>\n",
       "      <source src=\"../data/input/test_video.mp4\" type=\"video/mp4\">\n",
       "    </video>\n",
       "</div>\n"
      ],
      "text/plain": [
       "<IPython.core.display.HTML object>"
      ]
     },
     "metadata": {},
     "output_type": "display_data"
    }
   ],
   "source": [
    "%%HTML\n",
    "<div style=\"text-align: center\">\n",
    "    <video width=\"600\" height=\"400\" controls>\n",
    "      <source src=\"../data/input/test_video.mp4\" type=\"video/mp4\">\n",
    "    </video>\n",
    "</div>"
   ]
  },
  {
   "cell_type": "code",
   "execution_count": 5,
   "id": "34699206",
   "metadata": {},
   "outputs": [],
   "source": [
    "# Output\n",
    "OUTPUT_VIDEO = DATA_PATH+ \"/output/test_output.avi\""
   ]
  },
  {
   "cell_type": "markdown",
   "id": "0339f8b7",
   "metadata": {},
   "source": [
    "We will be storing the detections for each frame in two formats:\n",
    "\n",
    "- Object count of each class per frame as a time series (InfluxDB).\n",
    "- Each detection as a record (ElasticSearch)."
   ]
  },
  {
   "cell_type": "code",
   "execution_count": 7,
   "id": "9634539f",
   "metadata": {},
   "outputs": [],
   "source": [
    "# Specific components for object detection\n",
    "from videoanalytics.pipeline.sinks.object_detection import DetectionsAnnotator, DetectionsCSVWriter\n",
    "from videoanalytics.pipeline.sinks.object_detection.yolo4 import YOLOv4DetectorTF"
   ]
  },
  {
   "cell_type": "code",
   "execution_count": 8,
   "id": "4008c7aa",
   "metadata": {},
   "outputs": [],
   "source": [
    "# Detector\n",
    "\n",
    "# Object Detector model weights (Tensorflow)\n",
    "DETECTOR_WEIGHTS_FILENAME = DATA_PATH+ \"object_detection/checkpoints/yolov4-416-tf\"\n",
    "#DETECTOR_WEIGHTS_FILENAME = DATA_PATH+ \"object_detection/checkpoints/yolov4-tiny-416\"\n",
    "\n",
    "\n",
    "# Classes names for Detections Annotator\n",
    "DETECTOR_CLASSES_FILENAME = DATA_PATH+\"object_detection/classes_definitions/coco.txt\"\n",
    "\n",
    "# CSV with Detections filename\n",
    "DETECTIONS_FILENAME = DATA_PATH+\"/output/detections.csv\""
   ]
  },
  {
   "cell_type": "markdown",
   "id": "18d7b39f",
   "metadata": {},
   "source": [
    "## Integration with InfluxDB\n",
    "\n",
    "Two components are introduced: \n",
    "- `DetectionsCounter`: creates a variable named `<PREFIX><CLASS_ID><POSTFIX>` in the context with the number of instances for each class for each frame. (`<PREFIX>` and `<POSTFIX>` are parameters).\n",
    "- `InfluxDBWriter`: writes the specified variables to InfluxDB."
   ]
  },
  {
   "cell_type": "code",
   "execution_count": 13,
   "id": "fd9bcb18",
   "metadata": {},
   "outputs": [],
   "source": [
    "from videoanalytics.pipeline.sinks.database.influxdb import InfluxDBWriter, DetectionsCounter"
   ]
  },
  {
   "cell_type": "code",
   "execution_count": 14,
   "id": "4947d2f6",
   "metadata": {},
   "outputs": [],
   "source": [
    "# 1. Create the global context\n",
    "context = {}\n",
    "\n",
    "# 2. Create the pipeline\n",
    "pipeline = Pipeline()\n",
    "\n",
    "# 3. Add components\n",
    "\n",
    "# 3.1 Source\n",
    "pipeline.add_component( VideoReader( \"input\",context,\n",
    "                 video_path=INPUT_VIDEO,\n",
    "                 start_frame=START_FRAME,\n",
    "                 max_frames=MAX_FRAMES))\n",
    "\n",
    "# 3.2 Detector\n",
    "pipeline.add_component( YOLOv4DetectorTF(\"detector\",context,weights_filename=DETECTOR_WEIGHTS_FILENAME) )\n",
    "\n",
    "# 3.3 Detector to variable list\n",
    "pipeline.add_component( DetectionsCounter(\"detcounter\",\n",
    "                                          context,\n",
    "                                          classes_to_count=[0],\n",
    "                                          prefix=\"OBJ_\",\n",
    "                                          postfix=\"_COUNT\") )\n",
    "\n",
    "# 3.4 InfluxDB\n",
    "pipeline.add_component( InfluxDBWriter(\"influxdb\",context,\n",
    "                                        variables_to_publish=[\n",
    "                                            \"OBJ_00_COUNT\"\n",
    "                                        ], \n",
    "                                        host='localhost', \n",
    "                                        port=8086, \n",
    "                                        database=\"my_application\",\n",
    "                                        reset_db=True) )\n",
    "\n",
    "# 3.5 Output video\n",
    "pipeline.add_component(VideoWriter(\"writer\",context,filename=OUTPUT_VIDEO))"
   ]
  },
  {
   "cell_type": "code",
   "execution_count": 15,
   "id": "60f0acf7",
   "metadata": {},
   "outputs": [],
   "source": [
    "# 4. Define connections\n",
    "pipeline.set_connections([\n",
    "    (\"input\", \"detector\"),\n",
    "    (\"detector\", \"detcounter\"),\n",
    "    (\"detcounter\", \"influxdb\"),\n",
    "    (\"influxdb\", \"writer\")\n",
    "])"
   ]
  },
  {
   "cell_type": "code",
   "execution_count": 16,
   "id": "9e8e45d1",
   "metadata": {},
   "outputs": [],
   "source": [
    "pipeline.optimize()"
   ]
  },
  {
   "cell_type": "code",
   "execution_count": 17,
   "id": "f0c10aab",
   "metadata": {},
   "outputs": [
    {
     "data": {
      "image/png": "[encoded data removed]",
      "text/plain": [
       "<Figure size 1584x576 with 1 Axes>"
      ]
     },
     "metadata": {
      "needs_background": "light"
     },
     "output_type": "display_data"
    }
   ],
   "source": [
    "import matplotlib.pyplot as plt\n",
    "\n",
    "fig,axes = plt.subplots(1,1,figsize=(22,8))\n",
    "pipeline.plot(ax=axes)"
   ]
  },
  {
   "cell_type": "code",
   "execution_count": 18,
   "id": "4e4f4527",
   "metadata": {},
   "outputs": [
    {
     "data": {
      "application/vnd.jupyter.widget-view+json": {
       "model_id": "ac4c1d68667242168d881c6bb0543a1c",
       "version_major": 2,
       "version_minor": 0
      },
      "text/plain": [
       "  0%|          | 0/100.0 [00:00<?, ?it/s]"
      ]
     },
     "metadata": {},
     "output_type": "display_data"
    },
    {
     "name": "stdout",
     "output_type": "stream",
     "text": [
      "Total execution time [s]: 66.61873008300608\n"
     ]
    }
   ],
   "source": [
    "# 5. Execute\n",
    "pipeline.execute()\n",
    "print(\"Total execution time [s]:\", pipeline.get_total_execution_time())"
   ]
  },
  {
   "cell_type": "code",
   "execution_count": 19,
   "id": "c857bfb4",
   "metadata": {},
   "outputs": [
    {
     "data": {
      "text/html": [
       "<div>\n",
       "<style scoped>\n",
       "    .dataframe tbody tr th:only-of-type {\n",
       "        vertical-align: middle;\n",
       "    }\n",
       "\n",
       "    .dataframe tbody tr th {\n",
       "        vertical-align: top;\n",
       "    }\n",
       "\n",
       "    .dataframe thead th {\n",
       "        text-align: right;\n",
       "    }\n",
       "</style>\n",
       "<table border=\"1\" class=\"dataframe\">\n",
       "  <thead>\n",
       "    <tr style=\"text-align: right;\">\n",
       "      <th></th>\n",
       "      <th>time [s]</th>\n",
       "    </tr>\n",
       "  </thead>\n",
       "  <tbody>\n",
       "    <tr>\n",
       "      <th>input_avg_dt</th>\n",
       "      <td>0.011074</td>\n",
       "    </tr>\n",
       "    <tr>\n",
       "      <th>detector_avg_dt</th>\n",
       "      <td>0.518353</td>\n",
       "    </tr>\n",
       "    <tr>\n",
       "      <th>detcounter_avg_dt</th>\n",
       "      <td>0.000013</td>\n",
       "    </tr>\n",
       "    <tr>\n",
       "      <th>influxdb_avg_dt</th>\n",
       "      <td>0.087228</td>\n",
       "    </tr>\n",
       "    <tr>\n",
       "      <th>writer_avg_dt</th>\n",
       "      <td>0.045736</td>\n",
       "    </tr>\n",
       "  </tbody>\n",
       "</table>\n",
       "</div>"
      ],
      "text/plain": [
       "                   time [s]\n",
       "input_avg_dt       0.011074\n",
       "detector_avg_dt    0.518353\n",
       "detcounter_avg_dt  0.000013\n",
       "influxdb_avg_dt    0.087228\n",
       "writer_avg_dt      0.045736"
      ]
     },
     "execution_count": 19,
     "metadata": {},
     "output_type": "execute_result"
    }
   ],
   "source": [
    "import pandas as pd\n",
    "\n",
    "# 6. Report (optional)\n",
    "metrics_df = pd.DataFrame.from_dict(pipeline.get_metrics(), orient='index',columns=[\"time [s]\"])\n",
    "metrics_df"
   ]
  },
  {
   "cell_type": "markdown",
   "id": "e69d1e27",
   "metadata": {},
   "source": [
    "### Exploration of results\n",
    "\n",
    "Statistics can be of interest to focus on frame from video that contain interesting events. This can also be performed with the CSV output, but storing the results in DB is the prefered method if scalability is a concern."
   ]
  },
  {
   "cell_type": "code",
   "execution_count": 24,
   "id": "86d7e44a",
   "metadata": {},
   "outputs": [
    {
     "data": {
      "image/png": "[encoded data removed]",
      "text/plain": [
       "<Figure size 1296x432 with 1 Axes>"
      ]
     },
     "metadata": {
      "needs_background": "light"
     },
     "output_type": "display_data"
    }
   ],
   "source": [
    "from videoanalytics.pipeline.sinks.database.influxdb import plot_timeseries\n",
    "from influxdb import InfluxDBClient\n",
    "\n",
    "INFLUXDB_HOSTNAME=\"localhost\"\n",
    "INFLUXDB_USERNAME=\"root\"\n",
    "INFLUXDB_PASSWORD=\"root\"\n",
    "INFLUXDB_SCHEMA=\"my_application\"\n",
    "\n",
    "client = InfluxDBClient( INFLUXDB_HOSTNAME, 8086, INFLUXDB_USERNAME, INFLUXDB_PASSWORD, INFLUXDB_SCHEMA)\n",
    "\n",
    "variable_list = [\n",
    "    \"OBJ_00_COUNT\"\n",
    "]\n",
    "\n",
    "fig,axes=plt.subplots(1,1,figsize=(18,6))    \n",
    "plot_timeseries( client, variable_list,ax=axes,index_mode=\"index\").set_title(\"Object count per class\");     "
   ]
  },
  {
   "cell_type": "markdown",
   "id": "80f998e3",
   "metadata": {},
   "source": [
    "## Integration with ElasticSearch\n",
    "\n",
    "ElasticSearch is a Database designed for fast insertion and query of JSON documents. A typical application is to store events. In this case, a component is dedicated to store the detections in one step: `DetectionsESWriter`."
   ]
  },
  {
   "cell_type": "code",
   "execution_count": 25,
   "id": "dc5be023",
   "metadata": {},
   "outputs": [],
   "source": [
    "from videoanalytics.pipeline.sinks.database.elasticsearch import DetectionsESWriter"
   ]
  },
  {
   "cell_type": "code",
   "execution_count": 30,
   "id": "5d4dd3c5",
   "metadata": {},
   "outputs": [],
   "source": [
    "ELASTICSEARCH_HOSTNAME=\"localhost\"\n",
    "ELASTICSEARCH_INDEX=\"detections\""
   ]
  },
  {
   "cell_type": "code",
   "execution_count": 47,
   "id": "684c6c8b",
   "metadata": {
    "scrolled": true
   },
   "outputs": [],
   "source": [
    "# 1. Create the global context\n",
    "context = {}\n",
    "\n",
    "# 2. Create the pipeline\n",
    "pipeline = Pipeline()\n",
    "\n",
    "# 3. Add components\n",
    "\n",
    "# 3.1 Source\n",
    "pipeline.add_component( VideoReader( \"input\",context,\n",
    "                 video_path=INPUT_VIDEO,\n",
    "                 start_frame=START_FRAME,\n",
    "                 max_frames=MAX_FRAMES))\n",
    "\n",
    "# 3.2 Detector\n",
    "pipeline.add_component( YOLOv4DetectorTF(\"detector\",context,weights_filename=DETECTOR_WEIGHTS_FILENAME) )\n",
    "\n",
    "# 3.3 Detections writer\n",
    "pipeline.add_component( DetectionsESWriter(\"eswriter\",\n",
    "                                           context,\n",
    "                                           hostname=ELASTICSEARCH_HOSTNAME,\n",
    "                                           es_index=ELASTICSEARCH_INDEX) )\n",
    "\n",
    "# 3.6 Output video\n",
    "pipeline.add_component(VideoWriter(\"writer\",context,filename=OUTPUT_VIDEO))"
   ]
  },
  {
   "cell_type": "code",
   "execution_count": 48,
   "id": "b5bc77c5",
   "metadata": {},
   "outputs": [],
   "source": [
    "# 4. Define connections\n",
    "pipeline.set_connections([\n",
    "    (\"input\", \"detector\"),\n",
    "    (\"detector\", \"eswriter\"),\n",
    "    (\"eswriter\", \"writer\")\n",
    "])"
   ]
  },
  {
   "cell_type": "code",
   "execution_count": 49,
   "id": "d95db291",
   "metadata": {},
   "outputs": [],
   "source": [
    "pipeline.optimize()"
   ]
  },
  {
   "cell_type": "code",
   "execution_count": 50,
   "id": "a871c134",
   "metadata": {},
   "outputs": [
    {
     "data": {
      "image/png": "[encoded data removed]",
      "text/plain": [
       "<Figure size 1584x576 with 1 Axes>"
      ]
     },
     "metadata": {
      "needs_background": "light"
     },
     "output_type": "display_data"
    }
   ],
   "source": [
    "fig,axes = plt.subplots(1,1,figsize=(22,8))\n",
    "pipeline.plot(ax=axes)"
   ]
  },
  {
   "cell_type": "code",
   "execution_count": null,
   "id": "70447d0c",
   "metadata": {},
   "outputs": [],
   "source": [
    "# 5. Execute\n",
    "pipeline.execute()\n",
    "print(\"Total execution time [s]:\", pipeline.get_total_execution_time())"
   ]
  },
  {
   "cell_type": "code",
   "execution_count": 28,
   "id": "4b0a2c1f",
   "metadata": {},
   "outputs": [
    {
     "data": {
      "text/html": [
       "<div>\n",
       "<style scoped>\n",
       "    .dataframe tbody tr th:only-of-type {\n",
       "        vertical-align: middle;\n",
       "    }\n",
       "\n",
       "    .dataframe tbody tr th {\n",
       "        vertical-align: top;\n",
       "    }\n",
       "\n",
       "    .dataframe thead th {\n",
       "        text-align: right;\n",
       "    }\n",
       "</style>\n",
       "<table border=\"1\" class=\"dataframe\">\n",
       "  <thead>\n",
       "    <tr style=\"text-align: right;\">\n",
       "      <th></th>\n",
       "      <th>time [s]</th>\n",
       "    </tr>\n",
       "  </thead>\n",
       "  <tbody>\n",
       "    <tr>\n",
       "      <th>input_avg_dt</th>\n",
       "      <td>0.011698</td>\n",
       "    </tr>\n",
       "    <tr>\n",
       "      <th>detector_avg_dt</th>\n",
       "      <td>0.525466</td>\n",
       "    </tr>\n",
       "    <tr>\n",
       "      <th>eswriter_avg_dt</th>\n",
       "      <td>0.132491</td>\n",
       "    </tr>\n",
       "    <tr>\n",
       "      <th>writer_avg_dt</th>\n",
       "      <td>0.048645</td>\n",
       "    </tr>\n",
       "  </tbody>\n",
       "</table>\n",
       "</div>"
      ],
      "text/plain": [
       "                 time [s]\n",
       "input_avg_dt     0.011698\n",
       "detector_avg_dt  0.525466\n",
       "eswriter_avg_dt  0.132491\n",
       "writer_avg_dt    0.048645"
      ]
     },
     "execution_count": 28,
     "metadata": {},
     "output_type": "execute_result"
    }
   ],
   "source": [
    "import pandas as pd\n",
    "\n",
    "# 6. Report (optional)\n",
    "metrics_df = pd.DataFrame.from_dict(pipeline.get_metrics(), orient='index',columns=[\"time [s]\"])\n",
    "metrics_df"
   ]
  },
  {
   "cell_type": "markdown",
   "id": "f94197ff",
   "metadata": {},
   "source": [
    "### Exploration of results\n",
    "\n",
    "Advanced queries allow the identification of interesting sections of footage. Elasticsearch supports a query language with a similar syntax to SQL."
   ]
  },
  {
   "cell_type": "code",
   "execution_count": 42,
   "id": "0847f638",
   "metadata": {},
   "outputs": [
    {
     "name": "stdout",
     "output_type": "stream",
     "text": [
      "Got 140 Hits:\n",
      "2021-08-08T00:41:19.856067 Frame 8000 Class 0 score: 0.7429153323173523\n",
      "2021-08-08T00:45:36.575191 Frame 8000 Class 0 score: 0.7429153323173523\n",
      "2021-08-08T00:45:36.575191 Frame 8000 Class 0 score: 0.6205215454101562\n",
      "2021-08-08T00:45:37.735088 Frame 8001 Class 0 score: 0.7429153323173523\n",
      "2021-08-08T00:45:37.735088 Frame 8001 Class 0 score: 0.6205215454101562\n",
      "2021-08-08T00:45:38.620463 Frame 8002 Class 0 score: 0.6578598618507385\n",
      "2021-08-08T00:45:38.620463 Frame 8002 Class 0 score: 0.633901059627533\n",
      "2021-08-08T00:45:39.363828 Frame 8003 Class 0 score: 0.6384348273277283\n",
      "2021-08-08T00:45:39.363828 Frame 8003 Class 0 score: 0.5262541174888611\n",
      "2021-08-08T00:45:40.171607 Frame 8004 Class 0 score: 0.6390221118927002\n"
     ]
    }
   ],
   "source": [
    "from elasticsearch import Elasticsearch\n",
    "\n",
    "es = Elasticsearch(ELASTICSEARCH_HOSTNAME)\n",
    "\n",
    "res = es.search(index=ELASTICSEARCH_INDEX, \n",
    "                body={\n",
    "                    \"query\": {\n",
    "                        \"match_all\": {\n",
    "                            \n",
    "                        }\n",
    "                    }\n",
    "                }\n",
    ")\n",
    "\n",
    "print(\"Got %d Hits:\" % res['hits']['total']['value'])\n",
    "for hit in res['hits']['hits']:\n",
    "    print(\"%(timestamp)s Frame %(frame)s Class %(class_idx)s score: %(score)s\" % hit[\"_source\"])"
   ]
  }
 ],
 "metadata": {
  "kernelspec": {
   "display_name": "Python 3",
   "language": "python",
   "name": "python3"
  },
  "language_info": {
   "codemirror_mode": {
    "name": "ipython",
    "version": 3
   },
   "file_extension": ".py",
   "mimetype": "text/x-python",
   "name": "python",
   "nbconvert_exporter": "python",
   "pygments_lexer": "ipython3",
   "version": "3.7.0"
  }
 },
 "nbformat": 4,
 "nbformat_minor": 5
}
