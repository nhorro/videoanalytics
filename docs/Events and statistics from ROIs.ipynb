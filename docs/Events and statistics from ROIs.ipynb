{
 "cells": [
  {
   "cell_type": "markdown",
   "id": "729f0071",
   "metadata": {},
   "source": [
    "# Events and statistics from ROIs\n",
    "\n",
    "This example illustrates the usage of regions of interest (ROIs) to capture statistics and interesting events from footage, under the assumption that the camera has a fixed position and orientation.\n",
    "\n",
    "Contents:\n",
    "\n",
    "1. Loading and displaying ROIs.\n",
    "2. Counting objects inside ROIs.\n",
    "3. Triggering interesting events."
   ]
  },
  {
   "cell_type": "code",
   "execution_count": 1,
   "id": "1754bcde",
   "metadata": {},
   "outputs": [],
   "source": [
    "%load_ext autoreload\n",
    "%autoreload 2"
   ]
  },
  {
   "cell_type": "code",
   "execution_count": 65,
   "id": "0cce6f8e",
   "metadata": {},
   "outputs": [],
   "source": [
    "from videoanalytics.pipeline import Pipeline\n",
    "from videoanalytics.pipeline.sources import VideoReader\n",
    "from videoanalytics.pipeline.sinks import VideoWriter, VariableCSVWriter"
   ]
  },
  {
   "cell_type": "markdown",
   "id": "e8743c38",
   "metadata": {},
   "source": [
    "## Loading and displaying ROIs"
   ]
  },
  {
   "cell_type": "markdown",
   "id": "57283ab4",
   "metadata": {},
   "source": [
    "### Configuration\n",
    "\n",
    "#### Input and output video\n",
    "\n",
    "We will be using the same video as in the previous examples.\n",
    "Note: the video used in this example was downloaded from [youtube](https://www.youtube.com/watch?v=WgCe0tMO4lA)."
   ]
  },
  {
   "cell_type": "code",
   "execution_count": 118,
   "id": "fd4a70bd",
   "metadata": {},
   "outputs": [],
   "source": [
    "DATA_PATH = \"../data/\"\n",
    "\n",
    "# Input\n",
    "INPUT_VIDEO = DATA_PATH+\"/input/test_video.mp4\"\n",
    "START_FRAME = 0\n",
    "MAX_FRAMES = 1000"
   ]
  },
  {
   "cell_type": "code",
   "execution_count": 4,
   "id": "390e9c90",
   "metadata": {},
   "outputs": [
    {
     "data": {
      "text/html": [
       "<div style=\"text-align: center\">\n",
       "    <video width=\"600\" height=\"400\" controls>\n",
       "      <source src=\"../data/input/test_video.mp4\" type=\"video/mp4\">\n",
       "    </video>\n",
       "</div>\n"
      ],
      "text/plain": [
       "<IPython.core.display.HTML object>"
      ]
     },
     "metadata": {},
     "output_type": "display_data"
    }
   ],
   "source": [
    "%%HTML\n",
    "<div style=\"text-align: center\">\n",
    "    <video width=\"600\" height=\"400\" controls>\n",
    "      <source src=\"../data/input/test_video.mp4\" type=\"video/mp4\">\n",
    "    </video>\n",
    "</div>"
   ]
  },
  {
   "cell_type": "code",
   "execution_count": 6,
   "id": "3753ded4",
   "metadata": {},
   "outputs": [],
   "source": [
    "# Output\n",
    "OUTPUT_VIDEO = DATA_PATH+ \"/output/test_output.avi\""
   ]
  },
  {
   "cell_type": "markdown",
   "id": "a3e3ef9b",
   "metadata": {},
   "source": [
    "#### Definition of ROIs"
   ]
  },
  {
   "cell_type": "code",
   "execution_count": 7,
   "id": "de65c162",
   "metadata": {},
   "outputs": [
    {
     "name": "stdout",
     "output_type": "stream",
     "text": [
      "{\n",
      "\t\"regions\": [\n",
      "\t\t{\n",
      "\t\t\t\"name\": \"upper_left\",\n",
      "\t\t\t\"polygon\": [[385, 315], [676, 334], [754, 625], [668, 810], [165, 757]],\n",
      "\t\t\t\"color\": [155,155,0]\n",
      "\t\t},\n",
      "\n",
      "\t\t{\n",
      "\t\t\t\"name\": \"lower_left\",\n",
      "\t\t\t\"polygon\": [[11, 532], [777, 606], [666, 1073], [5, 1074]],\n",
      "\t\t\t\"color\": [155,155,0]\n",
      "\t\t},\n",
      "\n",
      "\t\t{\n",
      "\t\t\t\"name\": \"upper_right\",\n",
      "\t\t\t\"polygon\": [[1057, 336], [908, 682], [954, 773], [1522, 754], [1565, 595], [1210, 305]],\n",
      "\t\t\t\"color\": [155,0,155]\n",
      "\t\t},\n",
      "\n",
      "\t\t{\n",
      "\t\t\t\"name\": \"lower_right\",\n",
      "\t\t\t\"polygon\": [[973, 1072], [949, 625], [1749, 538], [1904, 1068]],\n",
      "\t\t\t\"color\": [155,0,155]\n",
      "\t\t},\n",
      "\n",
      "\n",
      "\t\t{\n",
      "\t\t\t\"name\": \"winch\",\n",
      "\t\t\t\"polygon\": [[1088, 369], [592, 382], [570, 580], [1131, 584]],\n",
      "\t\t\t\"color\": [0,255,0]\n",
      "\t\t}\n",
      "\t]\t\t\n",
      "}"
     ]
    }
   ],
   "source": [
    "ROI_DEFINITION_FILE= DATA_PATH+\"/roi/mirtar.json\"\n",
    "!cat {ROI_DEFINITION_FILE}"
   ]
  },
  {
   "cell_type": "markdown",
   "id": "50affe2b",
   "metadata": {},
   "source": [
    "### Pipeline instantiation and execution"
   ]
  },
  {
   "cell_type": "code",
   "execution_count": 8,
   "id": "ffe75e40",
   "metadata": {},
   "outputs": [],
   "source": [
    "from videoanalytics.pipeline.sinks.roi import ROIView"
   ]
  },
  {
   "cell_type": "code",
   "execution_count": 9,
   "id": "64862208",
   "metadata": {},
   "outputs": [],
   "source": [
    "# 1. Create the global context\n",
    "context = {}\n",
    "\n",
    "# 2. Create the pipeline\n",
    "pipeline = Pipeline()\n",
    "\n",
    "# 3. Add components\n",
    "\n",
    "# 3.1 Source\n",
    "pipeline.add_component( VideoReader( \"input\",context,\n",
    "                 video_path=INPUT_VIDEO,\n",
    "                 start_frame=START_FRAME,\n",
    "                 max_frames=MAX_FRAMES))"
   ]
  },
  {
   "cell_type": "code",
   "execution_count": 10,
   "id": "20437489",
   "metadata": {},
   "outputs": [],
   "source": [
    "# 3.2 ROI viewer\n",
    "pipeline.add_component( ROIView(\"roi_view\",context,filename=ROI_DEFINITION_FILE,alpha=0.6 ) )"
   ]
  },
  {
   "cell_type": "code",
   "execution_count": 11,
   "id": "d7bdc674",
   "metadata": {},
   "outputs": [],
   "source": [
    "# 3.3 Sink\n",
    "pipeline.add_component(VideoWriter(\"writer\",context,filename=OUTPUT_VIDEO))"
   ]
  },
  {
   "cell_type": "code",
   "execution_count": 12,
   "id": "de696f0c",
   "metadata": {
    "scrolled": true
   },
   "outputs": [],
   "source": [
    "# 4. Define connections\n",
    "pipeline.set_connections([\n",
    "    (\"input\", \"roi_view\"),\n",
    "    (\"roi_view\", \"writer\")\n",
    "])"
   ]
  },
  {
   "cell_type": "code",
   "execution_count": 13,
   "id": "0c6fb6d9",
   "metadata": {},
   "outputs": [
    {
     "data": {
      "image/png": "[encoded data removed]",
      "text/plain": [
       "<Figure size 1584x576 with 1 Axes>"
      ]
     },
     "metadata": {
      "needs_background": "light"
     },
     "output_type": "display_data"
    }
   ],
   "source": [
    "import matplotlib.pyplot as plt\n",
    "\n",
    "fig,axes = plt.subplots(1,1,figsize=(22,8))\n",
    "pipeline.plot(ax=axes)"
   ]
  },
  {
   "cell_type": "code",
   "execution_count": 14,
   "id": "00f726d8",
   "metadata": {},
   "outputs": [
    {
     "data": {
      "application/vnd.jupyter.widget-view+json": {
       "model_id": "348d1278bb5a4b619454351da6235bc9",
       "version_major": 2,
       "version_minor": 0
      },
      "text/plain": [
       "  0%|          | 0/100.0 [00:00<?, ?it/s]"
      ]
     },
     "metadata": {},
     "output_type": "display_data"
    },
    {
     "name": "stdout",
     "output_type": "stream",
     "text": [
      "Total execution time [s]: 30.61876826400112\n"
     ]
    }
   ],
   "source": [
    "# 5. Execute\n",
    "pipeline.execute()\n",
    "print(\"Total execution time [s]:\", pipeline.get_total_execution_time())"
   ]
  },
  {
   "cell_type": "code",
   "execution_count": null,
   "id": "65d9ea74-4c28-4b39-afd4-3773c8510b03",
   "metadata": {},
   "outputs": [],
   "source": [
    "import pandas as pd\n",
    "\n",
    "# 6. Report (optional)\n",
    "metrics_df = pd.DataFrame.from_dict(pipeline.get_metrics(), orient='index',columns=[\"time [s]\"])\n",
    "metrics_df"
   ]
  },
  {
   "cell_type": "markdown",
   "id": "24e2d904",
   "metadata": {
    "tags": []
   },
   "source": [
    "### Exploration of results\n",
    "\n",
    "Display the output video with annotated ROIs.\n",
    "\n",
    "Note: currently XVID format is not supported by jupyter."
   ]
  },
  {
   "cell_type": "code",
   "execution_count": 54,
   "id": "c76f1625",
   "metadata": {},
   "outputs": [
    {
     "data": {
      "text/html": [
       "<div style=\"text-align: center\">\n",
       "    <video width=\"600\" height=\"400\" controls>\n",
       "      <source src=\"../data/output/test_output.avi\" type=\"video/mp4\">\n",
       "    </video>\n",
       "</div>\n"
      ],
      "text/plain": [
       "<IPython.core.display.HTML object>"
      ]
     },
     "metadata": {},
     "output_type": "display_data"
    }
   ],
   "source": [
    "%%HTML\n",
    "<div style=\"text-align: center\">\n",
    "    <video width=\"600\" height=\"400\" controls>\n",
    "      <source src=\"../data/output/test_output.avi\" type=\"video/mp4\">\n",
    "    </video>\n",
    "</div>"
   ]
  },
  {
   "cell_type": "markdown",
   "id": "51781a0f",
   "metadata": {},
   "source": [
    "## A pipeline for counting objects inside ROIs\n",
    "\n",
    "A more real and useful application is to obtain statistics (object count, activity, etc.) to associate the activity in each ROI to interesting patterns in the footage. The following example counts the total instances for each ROI. Note that certain areas indicate that a particular acitvity is being performed, such as rising the networks or classifying the catch from the deck."
   ]
  },
  {
   "cell_type": "code",
   "execution_count": 16,
   "id": "e2bbf5bd",
   "metadata": {},
   "outputs": [],
   "source": [
    "from videoanalytics.pipeline.sinks.roi import ROIPresenceCounter\n",
    "from videoanalytics.pipeline.sinks.visualization import TextOverlay"
   ]
  },
  {
   "cell_type": "code",
   "execution_count": 18,
   "id": "92ef5dc3",
   "metadata": {},
   "outputs": [],
   "source": [
    "# Specific components for object detection\n",
    "from videoanalytics.pipeline.sinks.object_detection import DetectionsAnnotator, DetectionsCSVWriter\n",
    "from videoanalytics.pipeline.sinks.object_detection.yolo4 import YOLOv4DetectorTF"
   ]
  },
  {
   "cell_type": "code",
   "execution_count": 30,
   "id": "43dce3f2",
   "metadata": {},
   "outputs": [],
   "source": [
    "# Detector\n",
    "\n",
    "# Object Detector model weights (Tensorflow)\n",
    "DETECTOR_WEIGHTS_FILENAME = DATA_PATH+ \"object_detection/checkpoints/yolov4-416-tf\"\n",
    "#DETECTOR_WEIGHTS_FILENAME = DATA_PATH+ \"object_detection/checkpoints/yolov4-tiny-416\"\n",
    "\n",
    "\n",
    "# Classes names for Detections Annotator\n",
    "DETECTOR_CLASSES_FILENAME = DATA_PATH+\"object_detection/classes_definitions/coco.txt\"\n",
    "\n",
    "# CSV with Detections filename\n",
    "DETECTIONS_FILENAME = DATA_PATH+\"/output/detections.csv\"\n",
    "\n",
    "# CSV with variables\n",
    "VARIABLES_FILENAME = DATA_PATH+\"/output/variables.csv\""
   ]
  },
  {
   "cell_type": "markdown",
   "id": "f7a50054",
   "metadata": {},
   "source": [
    "### Pipeline instantiation and execution"
   ]
  },
  {
   "cell_type": "code",
   "execution_count": 56,
   "id": "32ed3a2b",
   "metadata": {},
   "outputs": [],
   "source": [
    "# 1. Create the global context\n",
    "context = {}\n",
    "\n",
    "# 2. Create the pipeline\n",
    "pipeline = Pipeline()\n",
    "\n",
    "# 3. Add components\n",
    "\n",
    "# 3.1 Source\n",
    "pipeline.add_component( VideoReader( \"input\",context,\n",
    "                 video_path=INPUT_VIDEO,\n",
    "                 start_frame=START_FRAME,\n",
    "                 max_frames=MAX_FRAMES))\n",
    "\n",
    "# 3.2 Detector\n",
    "pipeline.add_component( YOLOv4DetectorTF(\"detector\",context,weights_filename=DETECTOR_WEIGHTS_FILENAME) )\n",
    "\n",
    "\n",
    "# 3.3 Annotate detections in output video\n",
    "pipeline.add_component( DetectionsAnnotator(\"annotator\",context,\n",
    "                                             class_names_filename=DETECTOR_CLASSES_FILENAME,\n",
    "                                             show_label=True) )\n",
    "\n",
    "# 3.4 ROI viewer\n",
    "pipeline.add_component( ROIView(\"roi_view\",context,filename=ROI_DEFINITION_FILE,alpha=0.6 ) )\n",
    "\n",
    "# 3.5 ROI object counter\n",
    "pipeline.add_component( ROIPresenceCounter(\"roi_counter\",context,filename=ROI_DEFINITION_FILE) )\n",
    "\n",
    "# 3.5 Display variables on display\n",
    "pipeline.add_component( TextOverlay(\"stats_text\",context, \n",
    "                                    text=\"Upper left: {q_upper_left}\\n\"\n",
    "                                         \"Lower left: {q_lower_left}\\n\"\n",
    "                                         \"Upper right: {q_upper_right}\\n\"\n",
    "                                         \"Lower right: {q_lower_right}\\n\"\n",
    "                                         \"Winch: {q_winch}\\n\"\n",
    "                                         \"Total: {q_total}\",                                    \n",
    "                                    x=10,y=40) )\n",
    "\n",
    "# 3.6 Store variables in CSV\n",
    "pipeline.add_component( VariableCSVWriter(\"csv_variables\",context,filename=VARIABLES_FILENAME,\n",
    "                                          variables_to_write=[\n",
    "                                                \"q_upper_left\",\n",
    "                                                \"q_lower_left\",\n",
    "                                                \"q_upper_right\",\n",
    "                                                \"q_lower_right\",\n",
    "                                                \"q_winch\",\n",
    "                                                \"q_total\"\n",
    "                                          ]))\n",
    "\n",
    "\n",
    "# 3.6 Sink\n",
    "pipeline.add_component(VideoWriter(\"writer\",context,filename=OUTPUT_VIDEO))\n",
    "\n",
    "# 4. Define connections\n",
    "pipeline.set_connections([\n",
    "    (\"input\", \"detector\"),        \n",
    "    (\"detector\", \"roi_counter\"),\n",
    "    (\"detector\", \"annotator\"),\n",
    "    (\"roi_counter\", \"roi_view\"),\n",
    "    (\"roi_counter\", \"csv_variables\"),\n",
    "    (\"roi_view\", \"annotator\"),   \n",
    "    (\"annotator\", \"stats_text\"),     \n",
    "    (\"stats_text\", \"writer\")\n",
    "])"
   ]
  },
  {
   "cell_type": "code",
   "execution_count": 57,
   "id": "3ace50f2",
   "metadata": {},
   "outputs": [
    {
     "data": {
      "image/png": "[encoded data removed]",
      "text/plain": [
       "<Figure size 1584x576 with 1 Axes>"
      ]
     },
     "metadata": {
      "needs_background": "light"
     },
     "output_type": "display_data"
    }
   ],
   "source": [
    "import matplotlib.pyplot as plt\n",
    "\n",
    "fig,axes = plt.subplots(1,1,figsize=(22,8))\n",
    "pipeline.plot(ax=axes)"
   ]
  },
  {
   "cell_type": "code",
   "execution_count": 58,
   "id": "e80af328",
   "metadata": {},
   "outputs": [
    {
     "data": {
      "application/vnd.jupyter.widget-view+json": {
       "model_id": "ad7a146d79a9481391da9164f322e27a",
       "version_major": 2,
       "version_minor": 0
      },
      "text/plain": [
       "  0%|          | 0/100.0 [00:00<?, ?it/s]"
      ]
     },
     "metadata": {},
     "output_type": "display_data"
    },
    {
     "name": "stdout",
     "output_type": "stream",
     "text": [
      "Total execution time [s]: 655.7459518609976\n"
     ]
    }
   ],
   "source": [
    "# 5. Execute\n",
    "pipeline.execute()\n",
    "print(\"Total execution time [s]:\", pipeline.get_total_execution_time())"
   ]
  },
  {
   "cell_type": "code",
   "execution_count": null,
   "id": "b3eab3b1-4002-4d44-8cdf-f051a37042e1",
   "metadata": {},
   "outputs": [],
   "source": [
    "import pandas as pd\n",
    "\n",
    "# 6. Report (optional)\n",
    "metrics_df = pd.DataFrame.from_dict(pipeline.get_metrics(), orient='index',columns=[\"time [s]\"])\n",
    "metrics_df"
   ]
  },
  {
   "cell_type": "markdown",
   "id": "29156af2-0116-4988-a0e2-662ef9a71918",
   "metadata": {
    "jp-MarkdownHeadingCollapsed": true,
    "tags": []
   },
   "source": [
    "### Exploration of results\n",
    "\n",
    "Display the output video with annotated bounding boxes.\n",
    "\n",
    "Note: currently XVID format is not supported by jupyter."
   ]
  },
  {
   "cell_type": "code",
   "execution_count": 59,
   "id": "9e5276fa-4e1b-424a-b70d-8f2fd9f504b9",
   "metadata": {},
   "outputs": [
    {
     "data": {
      "text/html": [
       "<div style=\"text-align: center\">\n",
       "    <video width=\"600\" height=\"400\" controls>\n",
       "      <source src=\"../data/output/test_output.avi\" type=\"video/mp4\">\n",
       "    </video>\n",
       "</div>\n"
      ],
      "text/plain": [
       "<IPython.core.display.HTML object>"
      ]
     },
     "metadata": {},
     "output_type": "display_data"
    }
   ],
   "source": [
    "%%HTML\n",
    "<div style=\"text-align: center\">\n",
    "    <video width=\"600\" height=\"400\" controls>\n",
    "      <source src=\"../data/output/test_output.avi\" type=\"video/mp4\">\n",
    "    </video>\n",
    "</div>"
   ]
  },
  {
   "cell_type": "markdown",
   "id": "21b07d3d-d38a-44f6-a484-c71a38a9fa9e",
   "metadata": {},
   "source": [
    "#### Time series"
   ]
  },
  {
   "cell_type": "code",
   "execution_count": 61,
   "id": "cab8b9a9-47fa-447f-912e-4bda2774b839",
   "metadata": {},
   "outputs": [
    {
     "data": {
      "text/html": [
       "<div>\n",
       "<style scoped>\n",
       "    .dataframe tbody tr th:only-of-type {\n",
       "        vertical-align: middle;\n",
       "    }\n",
       "\n",
       "    .dataframe tbody tr th {\n",
       "        vertical-align: top;\n",
       "    }\n",
       "\n",
       "    .dataframe thead th {\n",
       "        text-align: right;\n",
       "    }\n",
       "</style>\n",
       "<table border=\"1\" class=\"dataframe\">\n",
       "  <thead>\n",
       "    <tr style=\"text-align: right;\">\n",
       "      <th></th>\n",
       "      <th>frame_num</th>\n",
       "      <th>q_upper_left</th>\n",
       "      <th>q_lower_left</th>\n",
       "      <th>q_upper_right</th>\n",
       "      <th>q_lower_right</th>\n",
       "      <th>q_winch</th>\n",
       "      <th>q_total</th>\n",
       "    </tr>\n",
       "  </thead>\n",
       "  <tbody>\n",
       "    <tr>\n",
       "      <th>0</th>\n",
       "      <td>10000</td>\n",
       "      <td>0</td>\n",
       "      <td>0</td>\n",
       "      <td>1</td>\n",
       "      <td>0</td>\n",
       "      <td>3</td>\n",
       "      <td>4</td>\n",
       "    </tr>\n",
       "    <tr>\n",
       "      <th>1</th>\n",
       "      <td>10001</td>\n",
       "      <td>0</td>\n",
       "      <td>0</td>\n",
       "      <td>1</td>\n",
       "      <td>0</td>\n",
       "      <td>3</td>\n",
       "      <td>4</td>\n",
       "    </tr>\n",
       "    <tr>\n",
       "      <th>2</th>\n",
       "      <td>10002</td>\n",
       "      <td>0</td>\n",
       "      <td>0</td>\n",
       "      <td>1</td>\n",
       "      <td>0</td>\n",
       "      <td>3</td>\n",
       "      <td>4</td>\n",
       "    </tr>\n",
       "    <tr>\n",
       "      <th>3</th>\n",
       "      <td>10003</td>\n",
       "      <td>0</td>\n",
       "      <td>0</td>\n",
       "      <td>0</td>\n",
       "      <td>0</td>\n",
       "      <td>3</td>\n",
       "      <td>3</td>\n",
       "    </tr>\n",
       "    <tr>\n",
       "      <th>4</th>\n",
       "      <td>10004</td>\n",
       "      <td>0</td>\n",
       "      <td>0</td>\n",
       "      <td>0</td>\n",
       "      <td>0</td>\n",
       "      <td>3</td>\n",
       "      <td>3</td>\n",
       "    </tr>\n",
       "  </tbody>\n",
       "</table>\n",
       "</div>"
      ],
      "text/plain": [
       "   frame_num  q_upper_left  q_lower_left  q_upper_right  q_lower_right  \\\n",
       "0      10000             0             0              1              0   \n",
       "1      10001             0             0              1              0   \n",
       "2      10002             0             0              1              0   \n",
       "3      10003             0             0              0              0   \n",
       "4      10004             0             0              0              0   \n",
       "\n",
       "   q_winch  q_total  \n",
       "0        3        4  \n",
       "1        3        4  \n",
       "2        3        4  \n",
       "3        3        3  \n",
       "4        3        3  "
      ]
     },
     "execution_count": 61,
     "metadata": {},
     "output_type": "execute_result"
    }
   ],
   "source": [
    "import pandas as pd\n",
    "df = pd.read_csv(VARIABLES_FILENAME)\n",
    "\n",
    "df.head(5)"
   ]
  },
  {
   "cell_type": "code",
   "execution_count": 63,
   "id": "b0fc5b27-bc57-4bb9-adf9-bfd5a4e30b1f",
   "metadata": {},
   "outputs": [
    {
     "data": {
      "image/png": "[encoded data removed]",
      "text/plain": [
       "<Figure size 1296x288 with 1 Axes>"
      ]
     },
     "metadata": {
      "needs_background": "light"
     },
     "output_type": "display_data"
    }
   ],
   "source": [
    "fig,axes = plt.subplots(1,1,figsize=(18,4))\n",
    "axes.grid(True)\n",
    "\n",
    "variables = [\n",
    "    \"q_upper_left\",\n",
    "    \"q_lower_left\",\n",
    "    \"q_upper_right\",\n",
    "    \"q_lower_right\",\n",
    "    \"q_winch\"   \n",
    "]\n",
    "for v in variables:\n",
    "    axes.plot(df.frame_num,df[v])\n",
    "axes.legend(variables)\n",
    "axes.set_xlabel(\"Frame number\")\n",
    "axes.set_ylabel(\"Value\")\n",
    "axes.set_title(\"Object count per region\");"
   ]
  },
  {
   "cell_type": "markdown",
   "id": "fcf0edf7",
   "metadata": {},
   "source": [
    "## A pipeline for triggering events from ROI activity"
   ]
  },
  {
   "cell_type": "code",
   "execution_count": 109,
   "id": "cc7e4d65",
   "metadata": {},
   "outputs": [],
   "source": [
    "#FIXME\n",
    "import json\n",
    "from shapely.geometry import Point\n",
    "from shapely.geometry.polygon import Polygon\n",
    "\n",
    "from videoanalytics.pipeline.sinks.roi.events import ROIEvents, ROIEventsCSVWriter"
   ]
  },
  {
   "cell_type": "markdown",
   "id": "98473a63-7333-4938-93f2-2d4d6a2c2cdb",
   "metadata": {},
   "source": [
    "### Pipeline instantiation and execution"
   ]
  },
  {
   "cell_type": "code",
   "execution_count": 67,
   "id": "24a98938-facd-4130-b73b-566ececd78ba",
   "metadata": {},
   "outputs": [],
   "source": [
    "DEEPSORT_MODEL_FILENAME = DATA_PATH+\"object_tracking/mars-small128.pb\""
   ]
  },
  {
   "cell_type": "code",
   "execution_count": 107,
   "id": "d658d735-6ef8-4e8e-b904-682201478bf4",
   "metadata": {},
   "outputs": [],
   "source": [
    "ROI_EVENTS_FILENAME = DATA_PATH+\"/output/roi_events.csv\""
   ]
  },
  {
   "cell_type": "code",
   "execution_count": 155,
   "id": "14dcbb80-f3be-4852-9ef2-ea278d6ba7b1",
   "metadata": {},
   "outputs": [],
   "source": [
    "from videoanalytics.pipeline.sinks.object_tracking.deepsort import DeepSORT\n",
    "from videoanalytics.pipeline.sinks.object_tracking import TrackedObjectsAnnotator, TrackedObjectsCSVWriter\n",
    "\n",
    "# 1. Create the global context\n",
    "context = {}\n",
    "\n",
    "# 2. Create the pipeline\n",
    "pipeline = Pipeline()\n",
    "\n",
    "# 3. Add components\n",
    "\n",
    "# 3.1 Source\n",
    "pipeline.add_component( VideoReader( \"input\",context,\n",
    "                 video_path=INPUT_VIDEO,\n",
    "                 start_frame=START_FRAME,\n",
    "                 max_frames=MAX_FRAMES))\n",
    "\n",
    "# 3.2 Detector\n",
    "pipeline.add_component( YOLOv4DetectorTF(\"detector\",context,weights_filename=DETECTOR_WEIGHTS_FILENAME) )\n",
    "\n",
    "# 3.3 ROI viewer\n",
    "pipeline.add_component( ROIView(\"roi_view\",context,filename=ROI_DEFINITION_FILE,alpha=0.6 ) )\n",
    "\n",
    "# 3.4 Tracker (DeepSORT)\n",
    "pipeline.add_component( DeepSORT(\"tracker\",context,model_filename=DEEPSORT_MODEL_FILENAME) )\n",
    "pipeline.add_component( TrackedObjectsAnnotator(\"tracker_annotator\",context) )\n",
    "\n",
    "# 3.5 Events generator\n",
    "pipeline.add_component( ROIEvents(\"roi_events\",context,filename=ROI_DEFINITION_FILE) )\n",
    "\n",
    "# 3.6 Record events to CSV\n",
    "pipeline.add_component( ROIEventsCSVWriter(\"roi_events_writer\",context,ROI_EVENTS_FILENAME) )\n",
    "\n",
    "# 3.7 Video Sink\n",
    "pipeline.add_component(VideoWriter(\"writer\",context,filename=OUTPUT_VIDEO))\n",
    "\n",
    "# 4. Define connections\n",
    "pipeline.set_connections([\n",
    "    (\"input\", \"detector\"),\n",
    "    (\"detector\", \"tracker\"),\n",
    "    (\"tracker\", \"roi_view\"),    \n",
    "    (\"roi_view\", \"tracker_annotator\"),\n",
    "    (\"tracker\", \"roi_events\"),\n",
    "    (\"roi_events\", \"roi_events_writer\"),\n",
    "    (\"tracker_annotator\", \"writer\")\n",
    "])"
   ]
  },
  {
   "cell_type": "code",
   "execution_count": 156,
   "id": "e24625d0-74f1-42e8-b757-f66442c91c23",
   "metadata": {},
   "outputs": [
    {
     "data": {
      "image/png": "[encoded data removed]",
      "text/plain": [
       "<Figure size 1584x576 with 1 Axes>"
      ]
     },
     "metadata": {
      "needs_background": "light"
     },
     "output_type": "display_data"
    }
   ],
   "source": [
    "import matplotlib.pyplot as plt\n",
    "\n",
    "fig,axes = plt.subplots(1,1,figsize=(22,8))\n",
    "pipeline.plot(ax=axes)"
   ]
  },
  {
   "cell_type": "code",
   "execution_count": 125,
   "id": "86febd6e-360b-4e7e-a74c-bdddb2c0cc0f",
   "metadata": {},
   "outputs": [
    {
     "data": {
      "application/vnd.jupyter.widget-view+json": {
       "model_id": "52034bf732f84397b57fcd352313435e",
       "version_major": 2,
       "version_minor": 0
      },
      "text/plain": [
       "  0%|          | 0/100.0 [00:00<?, ?it/s]"
      ]
     },
     "metadata": {},
     "output_type": "display_data"
    },
    {
     "name": "stdout",
     "output_type": "stream",
     "text": [
      "Total execution time [s]: 767.0963284800018\n"
     ]
    }
   ],
   "source": [
    "# 5. Execute\n",
    "pipeline.execute()\n",
    "print(\"Total execution time [s]:\", pipeline.get_total_execution_time())"
   ]
  },
  {
   "cell_type": "markdown",
   "id": "4e1270d2-859f-495f-9dfd-a19c2a2f1b1b",
   "metadata": {},
   "source": [
    "**¿Is this approach suitable for online processing?**\n",
    "\n",
    "If the detector inference time could be optimized, this might be a suitable approach for an online application."
   ]
  },
  {
   "cell_type": "code",
   "execution_count": 126,
   "id": "853e5c5a-0171-4911-b296-e852ce826d61",
   "metadata": {},
   "outputs": [
    {
     "data": {
      "text/html": [
       "<div>\n",
       "<style scoped>\n",
       "    .dataframe tbody tr th:only-of-type {\n",
       "        vertical-align: middle;\n",
       "    }\n",
       "\n",
       "    .dataframe tbody tr th {\n",
       "        vertical-align: top;\n",
       "    }\n",
       "\n",
       "    .dataframe thead th {\n",
       "        text-align: right;\n",
       "    }\n",
       "</style>\n",
       "<table border=\"1\" class=\"dataframe\">\n",
       "  <thead>\n",
       "    <tr style=\"text-align: right;\">\n",
       "      <th></th>\n",
       "      <th>time [s]</th>\n",
       "    </tr>\n",
       "  </thead>\n",
       "  <tbody>\n",
       "    <tr>\n",
       "      <th>input_avg_dt</th>\n",
       "      <td>0.008531</td>\n",
       "    </tr>\n",
       "    <tr>\n",
       "      <th>roi_view_avg_dt</th>\n",
       "      <td>0.005932</td>\n",
       "    </tr>\n",
       "    <tr>\n",
       "      <th>detector_avg_dt</th>\n",
       "      <td>0.703006</td>\n",
       "    </tr>\n",
       "    <tr>\n",
       "      <th>tracker_avg_dt</th>\n",
       "      <td>0.016689</td>\n",
       "    </tr>\n",
       "    <tr>\n",
       "      <th>roi_events_avg_dt</th>\n",
       "      <td>0.000503</td>\n",
       "    </tr>\n",
       "    <tr>\n",
       "      <th>roi_events_writer_avg_dt</th>\n",
       "      <td>0.000008</td>\n",
       "    </tr>\n",
       "    <tr>\n",
       "      <th>tracker_annotator_avg_dt</th>\n",
       "      <td>0.000296</td>\n",
       "    </tr>\n",
       "    <tr>\n",
       "      <th>writer_avg_dt</th>\n",
       "      <td>0.030035</td>\n",
       "    </tr>\n",
       "  </tbody>\n",
       "</table>\n",
       "</div>"
      ],
      "text/plain": [
       "                          time [s]\n",
       "input_avg_dt              0.008531\n",
       "roi_view_avg_dt           0.005932\n",
       "detector_avg_dt           0.703006\n",
       "tracker_avg_dt            0.016689\n",
       "roi_events_avg_dt         0.000503\n",
       "roi_events_writer_avg_dt  0.000008\n",
       "tracker_annotator_avg_dt  0.000296\n",
       "writer_avg_dt             0.030035"
      ]
     },
     "execution_count": 126,
     "metadata": {},
     "output_type": "execute_result"
    }
   ],
   "source": [
    "import pandas as pd\n",
    "\n",
    "# 6. Report (optional)\n",
    "metrics_df = pd.DataFrame.from_dict(pipeline.get_metrics(), orient='index',columns=[\"time [s]\"])\n",
    "metrics_df"
   ]
  },
  {
   "cell_type": "code",
   "execution_count": 153,
   "id": "cd6db060-9c71-4229-a261-5759f1a015b8",
   "metadata": {},
   "outputs": [
    {
     "data": {
      "image/png": "[encoded data removed]",
      "text/plain": [
       "<Figure size 1296x288 with 1 Axes>"
      ]
     },
     "metadata": {
      "needs_background": "light"
     },
     "output_type": "display_data"
    }
   ],
   "source": [
    "fig,axes = plt.subplots(1,1,figsize=(18,4))\n",
    "metrics_df.plot.bar(ax=axes)\n",
    "axes.set_title(\"Time spent in each component of the pipeline\");"
   ]
  },
  {
   "cell_type": "markdown",
   "id": "4b16c2c2-7ce7-4ac3-8888-9b5d58924477",
   "metadata": {
    "tags": []
   },
   "source": [
    "### Exploration of results\n",
    "\n",
    "Display the output video with annotated ROIs.\n",
    "\n",
    "Note: currently XVID format is not supported by jupyter."
   ]
  },
  {
   "cell_type": "code",
   "execution_count": 135,
   "id": "ae1a87fd-e462-4c51-9cca-d7955df7951c",
   "metadata": {},
   "outputs": [
    {
     "data": {
      "text/html": [
       "<div style=\"text-align: center\">\n",
       "    <video width=\"600\" height=\"400\" controls>\n",
       "      <source src=\"../data/output/test_output.avi\" type=\"video/mp4\">\n",
       "    </video>\n",
       "</div>\n"
      ],
      "text/plain": [
       "<IPython.core.display.HTML object>"
      ]
     },
     "metadata": {},
     "output_type": "display_data"
    }
   ],
   "source": [
    "%%HTML\n",
    "<div style=\"text-align: center\">\n",
    "    <video width=\"600\" height=\"400\" controls>\n",
    "      <source src=\"../data/output/test_output.avi\" type=\"video/mp4\">\n",
    "    </video>\n",
    "</div>"
   ]
  },
  {
   "cell_type": "markdown",
   "id": "3409a5dd-3ad7-4089-b91e-57d15fcfb56f",
   "metadata": {},
   "source": [
    "Events can be used as a starting point for counting objects, triggering alarms or to generate new variables with deeper insights."
   ]
  },
  {
   "cell_type": "code",
   "execution_count": 136,
   "id": "9140b7a8-1828-4d45-87a9-7be4d07b2d0a",
   "metadata": {},
   "outputs": [
    {
     "data": {
      "text/html": [
       "<div>\n",
       "<style scoped>\n",
       "    .dataframe tbody tr th:only-of-type {\n",
       "        vertical-align: middle;\n",
       "    }\n",
       "\n",
       "    .dataframe tbody tr th {\n",
       "        vertical-align: top;\n",
       "    }\n",
       "\n",
       "    .dataframe thead th {\n",
       "        text-align: right;\n",
       "    }\n",
       "</style>\n",
       "<table border=\"1\" class=\"dataframe\">\n",
       "  <thead>\n",
       "    <tr style=\"text-align: right;\">\n",
       "      <th></th>\n",
       "      <th>frame_num</th>\n",
       "      <th>event</th>\n",
       "      <th>obj_id</th>\n",
       "      <th>roi</th>\n",
       "    </tr>\n",
       "  </thead>\n",
       "  <tbody>\n",
       "    <tr>\n",
       "      <th>0</th>\n",
       "      <td>2</td>\n",
       "      <td>ENTERED</td>\n",
       "      <td>1</td>\n",
       "      <td>SCREEN</td>\n",
       "    </tr>\n",
       "    <tr>\n",
       "      <th>1</th>\n",
       "      <td>2</td>\n",
       "      <td>ENTERED</td>\n",
       "      <td>2</td>\n",
       "      <td>SCREEN</td>\n",
       "    </tr>\n",
       "    <tr>\n",
       "      <th>2</th>\n",
       "      <td>2</td>\n",
       "      <td>ENTERED</td>\n",
       "      <td>3</td>\n",
       "      <td>SCREEN</td>\n",
       "    </tr>\n",
       "    <tr>\n",
       "      <th>3</th>\n",
       "      <td>2</td>\n",
       "      <td>ENTERED</td>\n",
       "      <td>2</td>\n",
       "      <td>winch</td>\n",
       "    </tr>\n",
       "    <tr>\n",
       "      <th>4</th>\n",
       "      <td>2</td>\n",
       "      <td>ENTERED</td>\n",
       "      <td>3</td>\n",
       "      <td>winch</td>\n",
       "    </tr>\n",
       "    <tr>\n",
       "      <th>5</th>\n",
       "      <td>233</td>\n",
       "      <td>ENTERED</td>\n",
       "      <td>1</td>\n",
       "      <td>lower_right</td>\n",
       "    </tr>\n",
       "    <tr>\n",
       "      <th>6</th>\n",
       "      <td>236</td>\n",
       "      <td>LEFT</td>\n",
       "      <td>1</td>\n",
       "      <td>lower_right</td>\n",
       "    </tr>\n",
       "    <tr>\n",
       "      <th>7</th>\n",
       "      <td>271</td>\n",
       "      <td>ENTERED</td>\n",
       "      <td>7</td>\n",
       "      <td>SCREEN</td>\n",
       "    </tr>\n",
       "    <tr>\n",
       "      <th>8</th>\n",
       "      <td>271</td>\n",
       "      <td>ENTERED</td>\n",
       "      <td>7</td>\n",
       "      <td>winch</td>\n",
       "    </tr>\n",
       "    <tr>\n",
       "      <th>9</th>\n",
       "      <td>358</td>\n",
       "      <td>ENTERED</td>\n",
       "      <td>1</td>\n",
       "      <td>lower_left</td>\n",
       "    </tr>\n",
       "  </tbody>\n",
       "</table>\n",
       "</div>"
      ],
      "text/plain": [
       "   frame_num    event  obj_id          roi\n",
       "0          2  ENTERED       1       SCREEN\n",
       "1          2  ENTERED       2       SCREEN\n",
       "2          2  ENTERED       3       SCREEN\n",
       "3          2  ENTERED       2        winch\n",
       "4          2  ENTERED       3        winch\n",
       "5        233  ENTERED       1  lower_right\n",
       "6        236     LEFT       1  lower_right\n",
       "7        271  ENTERED       7       SCREEN\n",
       "8        271  ENTERED       7        winch\n",
       "9        358  ENTERED       1   lower_left"
      ]
     },
     "execution_count": 136,
     "metadata": {},
     "output_type": "execute_result"
    }
   ],
   "source": [
    "import pandas as pd\n",
    "\n",
    "df = pd.read_csv(ROI_EVENTS_FILENAME)\n",
    "df.head(10)"
   ]
  },
  {
   "cell_type": "code",
   "execution_count": 137,
   "id": "a776a33d-bb26-42ea-83a1-1735f91f6d91",
   "metadata": {},
   "outputs": [
    {
     "data": {
      "text/html": [
       "<div>\n",
       "<style scoped>\n",
       "    .dataframe tbody tr th:only-of-type {\n",
       "        vertical-align: middle;\n",
       "    }\n",
       "\n",
       "    .dataframe tbody tr th {\n",
       "        vertical-align: top;\n",
       "    }\n",
       "\n",
       "    .dataframe thead th {\n",
       "        text-align: right;\n",
       "    }\n",
       "</style>\n",
       "<table border=\"1\" class=\"dataframe\">\n",
       "  <thead>\n",
       "    <tr style=\"text-align: right;\">\n",
       "      <th></th>\n",
       "      <th>frame_num</th>\n",
       "      <th>event</th>\n",
       "      <th>obj_id</th>\n",
       "      <th>roi</th>\n",
       "    </tr>\n",
       "  </thead>\n",
       "  <tbody>\n",
       "    <tr>\n",
       "      <th>20</th>\n",
       "      <td>479</td>\n",
       "      <td>ENTERED</td>\n",
       "      <td>12</td>\n",
       "      <td>SCREEN</td>\n",
       "    </tr>\n",
       "    <tr>\n",
       "      <th>21</th>\n",
       "      <td>479</td>\n",
       "      <td>ENTERED</td>\n",
       "      <td>12</td>\n",
       "      <td>winch</td>\n",
       "    </tr>\n",
       "    <tr>\n",
       "      <th>22</th>\n",
       "      <td>648</td>\n",
       "      <td>ENTERED</td>\n",
       "      <td>13</td>\n",
       "      <td>SCREEN</td>\n",
       "    </tr>\n",
       "    <tr>\n",
       "      <th>23</th>\n",
       "      <td>648</td>\n",
       "      <td>ENTERED</td>\n",
       "      <td>13</td>\n",
       "      <td>upper_right</td>\n",
       "    </tr>\n",
       "    <tr>\n",
       "      <th>24</th>\n",
       "      <td>708</td>\n",
       "      <td>ENTERED</td>\n",
       "      <td>13</td>\n",
       "      <td>lower_right</td>\n",
       "    </tr>\n",
       "    <tr>\n",
       "      <th>25</th>\n",
       "      <td>719</td>\n",
       "      <td>ENTERED</td>\n",
       "      <td>16</td>\n",
       "      <td>SCREEN</td>\n",
       "    </tr>\n",
       "    <tr>\n",
       "      <th>26</th>\n",
       "      <td>719</td>\n",
       "      <td>ENTERED</td>\n",
       "      <td>16</td>\n",
       "      <td>upper_right</td>\n",
       "    </tr>\n",
       "    <tr>\n",
       "      <th>27</th>\n",
       "      <td>795</td>\n",
       "      <td>ENTERED</td>\n",
       "      <td>10</td>\n",
       "      <td>lower_right</td>\n",
       "    </tr>\n",
       "    <tr>\n",
       "      <th>28</th>\n",
       "      <td>796</td>\n",
       "      <td>LEFT</td>\n",
       "      <td>10</td>\n",
       "      <td>lower_right</td>\n",
       "    </tr>\n",
       "    <tr>\n",
       "      <th>29</th>\n",
       "      <td>827</td>\n",
       "      <td>ENTERED</td>\n",
       "      <td>17</td>\n",
       "      <td>SCREEN</td>\n",
       "    </tr>\n",
       "  </tbody>\n",
       "</table>\n",
       "</div>"
      ],
      "text/plain": [
       "    frame_num    event  obj_id          roi\n",
       "20        479  ENTERED      12       SCREEN\n",
       "21        479  ENTERED      12        winch\n",
       "22        648  ENTERED      13       SCREEN\n",
       "23        648  ENTERED      13  upper_right\n",
       "24        708  ENTERED      13  lower_right\n",
       "25        719  ENTERED      16       SCREEN\n",
       "26        719  ENTERED      16  upper_right\n",
       "27        795  ENTERED      10  lower_right\n",
       "28        796     LEFT      10  lower_right\n",
       "29        827  ENTERED      17       SCREEN"
      ]
     },
     "execution_count": 137,
     "metadata": {},
     "output_type": "execute_result"
    }
   ],
   "source": [
    "df.tail(10)"
   ]
  },
  {
   "cell_type": "code",
   "execution_count": 150,
   "id": "36c065be-c19f-4da2-bb9b-facf502a68b4",
   "metadata": {},
   "outputs": [
    {
     "data": {
      "text/html": [
       "<div>\n",
       "<style scoped>\n",
       "    .dataframe tbody tr th:only-of-type {\n",
       "        vertical-align: middle;\n",
       "    }\n",
       "\n",
       "    .dataframe tbody tr th {\n",
       "        vertical-align: top;\n",
       "    }\n",
       "\n",
       "    .dataframe thead th {\n",
       "        text-align: right;\n",
       "    }\n",
       "</style>\n",
       "<table border=\"1\" class=\"dataframe\">\n",
       "  <thead>\n",
       "    <tr style=\"text-align: right;\">\n",
       "      <th></th>\n",
       "      <th></th>\n",
       "      <th>frame_num</th>\n",
       "      <th>obj_id</th>\n",
       "    </tr>\n",
       "    <tr>\n",
       "      <th>event</th>\n",
       "      <th>roi</th>\n",
       "      <th></th>\n",
       "      <th></th>\n",
       "    </tr>\n",
       "  </thead>\n",
       "  <tbody>\n",
       "    <tr>\n",
       "      <th rowspan=\"6\" valign=\"top\">ENTERED</th>\n",
       "      <th>SCREEN</th>\n",
       "      <td>10</td>\n",
       "      <td>10</td>\n",
       "    </tr>\n",
       "    <tr>\n",
       "      <th>lower_left</th>\n",
       "      <td>2</td>\n",
       "      <td>2</td>\n",
       "    </tr>\n",
       "    <tr>\n",
       "      <th>lower_right</th>\n",
       "      <td>3</td>\n",
       "      <td>3</td>\n",
       "    </tr>\n",
       "    <tr>\n",
       "      <th>upper_left</th>\n",
       "      <td>2</td>\n",
       "      <td>2</td>\n",
       "    </tr>\n",
       "    <tr>\n",
       "      <th>upper_right</th>\n",
       "      <td>3</td>\n",
       "      <td>3</td>\n",
       "    </tr>\n",
       "    <tr>\n",
       "      <th>winch</th>\n",
       "      <td>4</td>\n",
       "      <td>4</td>\n",
       "    </tr>\n",
       "    <tr>\n",
       "      <th rowspan=\"3\" valign=\"top\">LEFT</th>\n",
       "      <th>lower_left</th>\n",
       "      <td>2</td>\n",
       "      <td>2</td>\n",
       "    </tr>\n",
       "    <tr>\n",
       "      <th>lower_right</th>\n",
       "      <td>2</td>\n",
       "      <td>2</td>\n",
       "    </tr>\n",
       "    <tr>\n",
       "      <th>upper_left</th>\n",
       "      <td>2</td>\n",
       "      <td>2</td>\n",
       "    </tr>\n",
       "  </tbody>\n",
       "</table>\n",
       "</div>"
      ],
      "text/plain": [
       "                     frame_num  obj_id\n",
       "event   roi                           \n",
       "ENTERED SCREEN              10      10\n",
       "        lower_left           2       2\n",
       "        lower_right          3       3\n",
       "        upper_left           2       2\n",
       "        upper_right          3       3\n",
       "        winch                4       4\n",
       "LEFT    lower_left           2       2\n",
       "        lower_right          2       2\n",
       "        upper_left           2       2"
      ]
     },
     "execution_count": 150,
     "metadata": {},
     "output_type": "execute_result"
    }
   ],
   "source": [
    "df.groupby([\"event\",\"roi\"]).count()"
   ]
  }
 ],
 "metadata": {
  "kernelspec": {
   "display_name": "Python 3",
   "language": "python",
   "name": "python3"
  },
  "language_info": {
   "codemirror_mode": {
    "name": "ipython",
    "version": 3
   },
   "file_extension": ".py",
   "mimetype": "text/x-python",
   "name": "python",
   "nbconvert_exporter": "python",
   "pygments_lexer": "ipython3",
   "version": "3.7.0"
  }
 },
 "nbformat": 4,
 "nbformat_minor": 5
}
